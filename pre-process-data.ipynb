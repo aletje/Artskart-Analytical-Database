{
 "cells": [
  {
   "cell_type": "code",
   "execution_count": 1,
   "metadata": {},
   "outputs": [],
   "source": [
    "# Find Spark on my local computer\n",
    "import findspark\n",
    "findspark.init()"
   ]
  },
  {
   "cell_type": "code",
   "execution_count": 2,
   "metadata": {},
   "outputs": [],
   "source": [
    "# Import libraries\n",
    "import configparser\n",
    "from pyspark import SparkContext, SparkConf, SQLContext\n",
    "from pyspark.sql import SparkSession"
   ]
  },
  {
   "cell_type": "code",
   "execution_count": 3,
   "metadata": {},
   "outputs": [],
   "source": [
    "# Create SparkConf with native microsoft jdbc driver for sql-server\n",
    "configure = SparkConf().setAppName(\"Artskart\")\\\n",
    "                       .setMaster(\"local[*]\")\\\n",
    "                       .set(\"spark.driver.extraClassPath\",\"sqljdbc_9.2/enu/mssql-jdbc-9.2.1.jre8.jar\")"
   ]
  },
  {
   "cell_type": "code",
   "execution_count": 4,
   "metadata": {},
   "outputs": [],
   "source": [
    "# Create SparkContext and connect to our application\n",
    "sc = SparkContext(conf = configure)"
   ]
  },
  {
   "cell_type": "code",
   "execution_count": 5,
   "metadata": {},
   "outputs": [],
   "source": [
    "# Create spark session\n",
    "spark = SparkSession \\\n",
    "    .builder \\\n",
    "    .getOrCreate()"
   ]
  },
  {
   "cell_type": "code",
   "execution_count": 6,
   "metadata": {},
   "outputs": [
    {
     "data": {
      "text/html": [
       "\n",
       "            <div>\n",
       "                <p><b>SparkSession - in-memory</b></p>\n",
       "                \n",
       "        <div>\n",
       "            <p><b>SparkContext</b></p>\n",
       "\n",
       "            <p><a href=\"http://host.docker.internal:4040\">Spark UI</a></p>\n",
       "\n",
       "            <dl>\n",
       "              <dt>Version</dt>\n",
       "                <dd><code>v3.1.1</code></dd>\n",
       "              <dt>Master</dt>\n",
       "                <dd><code>local[*]</code></dd>\n",
       "              <dt>AppName</dt>\n",
       "                <dd><code>Artskart</code></dd>\n",
       "            </dl>\n",
       "        </div>\n",
       "        \n",
       "            </div>\n",
       "        "
      ],
      "text/plain": [
       "<pyspark.sql.session.SparkSession at 0x264ffe637f0>"
      ]
     },
     "execution_count": 6,
     "metadata": {},
     "output_type": "execute_result"
    }
   ],
   "source": [
    "# Validate Spark session\n",
    "spark"
   ]
  },
  {
   "cell_type": "code",
   "execution_count": 9,
   "metadata": {},
   "outputs": [],
   "source": [
    "jdbcHostname=<jdbcHostname>\n",
    "jdbcPort=<jdbcPort>\n",
    "jdbcDatabase=<jdbcDatabase>\n",
    "jdbcUsername=<jdbcUsername>\n",
    "jdbcPassword=<jdbcPassword>\n",
    "\n",
    "\n",
    "jdbcUrl = \"jdbc:sqlserver://{0}:{1};Database={2};\".format(jdbcHostname, jdbcPort, jdbcDatabase)\n",
    "\n",
    "connectionProperties = {\n",
    "  \"user\" : jdbcUsername,\n",
    "  \"password\" : jdbcPassword,\n",
    "  \"driver\" : \"com.microsoft.sqlserver.jdbc.SQLServerDriver\"\n",
    "}"
   ]
  },
  {
   "cell_type": "markdown",
   "metadata": {},
   "source": [
    "##### this error might occur when connecting with native JDBC driver\n",
    "`com.microsoft.sqlserver.jdbc.SQLServerException: The TCP/IP connection to the host HOSTNAME, port 1433 has failed.\n",
    "Error: \"Connection refused: connect. Verify the connection properties. Make sure that an instance of SQL Server is running on the host and accepting TCP/IP connections at the port.\n",
    "Make sure that TCP connections to the port are not blocked by a firewall.`\n",
    "\n",
    "please read further: https://kb.sos-berlin.com/pages/viewpage.action?pageId=17499564"
   ]
  },
  {
   "cell_type": "code",
   "execution_count": 10,
   "metadata": {},
   "outputs": [
    {
     "data": {
      "text/plain": [
       "DataFrame[FID: int, ProxyId: string, NodeDatabaseID: int, InstitutionCode: string, CollectionCode: string, CatalogNumber: string, VitNavn: string, BasisOfRecord: string, Kingdom: string, Phylum: string, Class: string, Order: string, Family: string, Genus: string, Species: string, Subspecies: string, Author: string, IdentifiedBy: string, YearIdentified: int, MonthIdentified: int, DayIdentified: int, TypeStatus: string, CollectorNumber: string, FieldNumber: string, Collector: string, YearCollected: int, MonthCollected: int, DayCollected: int, ContinentOcean: string, Country: string, StateProvince: string, CountyOrg: string, Locality: string, CountyID: string, MunicipalityID: string, County: string, MuniName: string, Longitude: double, Latitude: double, CoordinatePrecision: int, BoundingBox: string, MinElevation: int, MaxElevation: int, MinDepth: string, MaxDepth: string, Sex: string, PreparationType: string, IndividualCount: string, PreviousCatalogNumber: string, RelationshipType: string, RelatedCatalogItem: string, Notes: string, CollectingMethod: string, IdentificationPrecision: int, NorskNavn: string, Okologi: string, Habitat: string, Substrat: string, UTMost: int, UTMnord: int, UTMsone: string, MGRSfra: string, MGRStil: string, UTM33ost: int, UTM33nord: int, KoordKilde: string, ElevationKilde: string, Status: string, RelativeAboundance: string, Antropokor: int, URL: string, ArtsGruppe: int, IName: string, CName: string, CategoryId: int]"
      ]
     },
     "metadata": {},
     "output_type": "display_data"
    }
   ],
   "source": [
    "pushdown_query = \"(select * from View_ShapeExportRedlist) redlist_alias\"\n",
    "df = spark.read.jdbc(url=jdbcUrl, table=pushdown_query, properties=connectionProperties)\n",
    "display(df)"
   ]
  },
  {
   "cell_type": "code",
   "execution_count": 7,
   "metadata": {},
   "outputs": [],
   "source": [
    "# Set output path to local working directory\n",
    "output = \"<path_name>\""
   ]
  },
  {
   "cell_type": "code",
   "execution_count": 8,
   "metadata": {},
   "outputs": [],
   "source": [
    "# Set filename\n",
    "filename = \"redlist.csv\""
   ]
  },
  {
   "cell_type": "code",
   "execution_count": 13,
   "metadata": {},
   "outputs": [],
   "source": [
    "# Save a copy on my local working directory\n",
    "# Repartition by the number of cores availiable on my machine; 8\n",
    "\n",
    "df.repartition(8).write.save(output + filename, format=\"csv\", header=True) # row count: 4,384,290"
   ]
  },
  {
   "cell_type": "code",
   "execution_count": 9,
   "metadata": {},
   "outputs": [],
   "source": [
    "# Read file back into RAM with Spark\n",
    "redlist = spark.read.csv(output + filename, header=True)"
   ]
  },
  {
   "cell_type": "code",
   "execution_count": 12,
   "metadata": {},
   "outputs": [
    {
     "data": {
      "text/plain": [
       "Row(FID='41954328', ProxyId='urn:uuid:43688d2a-f87b-4031-9e20-c6e0ca85840a', NodeDatabaseID='1010', InstitutionCode='NOF', CollectionCode='so2-birds', CatalogNumber='24208745', VitNavn='Delichon urbicum', BasisOfRecord='humanobservation', Kingdom='Animalia', Phylum='Chordata', Class='Aves', Order='Passeriformes', Family='Hirundinidae', Genus='Delichon', Species='Delichon urbicum', Subspecies=None, Author='(Linnaeus, 1758)', IdentifiedBy=None, YearIdentified='0', MonthIdentified='0', DayIdentified='0', TypeStatus=None, CollectorNumber=None, FieldNumber=None, Collector='Frank Holmen', YearCollected='2020', MonthCollected='5', DayCollected='19', ContinentOcean=None, Country='Norway', StateProvince=None, CountyOrg=None, Locality='Møssevoll, Vessøyjordene, Grimstad, Ag', CountyID='42', MunicipalityID='4202', County='Agder', MuniName='Grimstad', Longitude='8.694183', Latitude='58.388015', CoordinatePrecision='116', BoundingBox=None, MinElevation=None, MaxElevation=None, MinDepth=None, MaxDepth=None, Sex=None, PreparationType=None, IndividualCount='3', PreviousCatalogNumber=None, RelationshipType=None, RelatedCatalogItem=None, Notes='Activity: Forage.', CollectingMethod=None, IdentificationPrecision='0', NorskNavn='taksvale', Okologi=None, Habitat=None, Substrat=None, UTMost='131645', UTMnord='6489200', UTMsone='33V', MGRSfra=None, MGRStil=None, UTM33ost='131645', UTM33nord='6489200', KoordKilde='OR', ElevationKilde=None, Status='NT', RelativeAboundance=None, Antropokor='0', URL='https://www.artsobservasjoner.no/Sighting/24208745', ArtsGruppe='8', IName='Norsk Ornitologisk Forening', CName='so2-birds hos Norsk Ornitologisk Forening', CategoryId='11')"
      ]
     },
     "execution_count": 12,
     "metadata": {},
     "output_type": "execute_result"
    }
   ],
   "source": [
    "redlist.head()"
   ]
  },
  {
   "cell_type": "code",
   "execution_count": 14,
   "metadata": {},
   "outputs": [
    {
     "name": "stdout",
     "output_type": "stream",
     "text": [
      "root\n",
      " |-- FID: string (nullable = true)\n",
      " |-- ProxyId: string (nullable = true)\n",
      " |-- NodeDatabaseID: string (nullable = true)\n",
      " |-- InstitutionCode: string (nullable = true)\n",
      " |-- CollectionCode: string (nullable = true)\n",
      " |-- CatalogNumber: string (nullable = true)\n",
      " |-- VitNavn: string (nullable = true)\n",
      " |-- BasisOfRecord: string (nullable = true)\n",
      " |-- Kingdom: string (nullable = true)\n",
      " |-- Phylum: string (nullable = true)\n",
      " |-- Class: string (nullable = true)\n",
      " |-- Order: string (nullable = true)\n",
      " |-- Family: string (nullable = true)\n",
      " |-- Genus: string (nullable = true)\n",
      " |-- Species: string (nullable = true)\n",
      " |-- Subspecies: string (nullable = true)\n",
      " |-- Author: string (nullable = true)\n",
      " |-- IdentifiedBy: string (nullable = true)\n",
      " |-- YearIdentified: string (nullable = true)\n",
      " |-- MonthIdentified: string (nullable = true)\n",
      " |-- DayIdentified: string (nullable = true)\n",
      " |-- TypeStatus: string (nullable = true)\n",
      " |-- CollectorNumber: string (nullable = true)\n",
      " |-- FieldNumber: string (nullable = true)\n",
      " |-- Collector: string (nullable = true)\n",
      " |-- YearCollected: string (nullable = true)\n",
      " |-- MonthCollected: string (nullable = true)\n",
      " |-- DayCollected: string (nullable = true)\n",
      " |-- ContinentOcean: string (nullable = true)\n",
      " |-- Country: string (nullable = true)\n",
      " |-- StateProvince: string (nullable = true)\n",
      " |-- CountyOrg: string (nullable = true)\n",
      " |-- Locality: string (nullable = true)\n",
      " |-- CountyID: string (nullable = true)\n",
      " |-- MunicipalityID: string (nullable = true)\n",
      " |-- County: string (nullable = true)\n",
      " |-- MuniName: string (nullable = true)\n",
      " |-- Longitude: string (nullable = true)\n",
      " |-- Latitude: string (nullable = true)\n",
      " |-- CoordinatePrecision: string (nullable = true)\n",
      " |-- BoundingBox: string (nullable = true)\n",
      " |-- MinElevation: string (nullable = true)\n",
      " |-- MaxElevation: string (nullable = true)\n",
      " |-- MinDepth: string (nullable = true)\n",
      " |-- MaxDepth: string (nullable = true)\n",
      " |-- Sex: string (nullable = true)\n",
      " |-- PreparationType: string (nullable = true)\n",
      " |-- IndividualCount: string (nullable = true)\n",
      " |-- PreviousCatalogNumber: string (nullable = true)\n",
      " |-- RelationshipType: string (nullable = true)\n",
      " |-- RelatedCatalogItem: string (nullable = true)\n",
      " |-- Notes: string (nullable = true)\n",
      " |-- CollectingMethod: string (nullable = true)\n",
      " |-- IdentificationPrecision: string (nullable = true)\n",
      " |-- NorskNavn: string (nullable = true)\n",
      " |-- Okologi: string (nullable = true)\n",
      " |-- Habitat: string (nullable = true)\n",
      " |-- Substrat: string (nullable = true)\n",
      " |-- UTMost: string (nullable = true)\n",
      " |-- UTMnord: string (nullable = true)\n",
      " |-- UTMsone: string (nullable = true)\n",
      " |-- MGRSfra: string (nullable = true)\n",
      " |-- MGRStil: string (nullable = true)\n",
      " |-- UTM33ost: string (nullable = true)\n",
      " |-- UTM33nord: string (nullable = true)\n",
      " |-- KoordKilde: string (nullable = true)\n",
      " |-- ElevationKilde: string (nullable = true)\n",
      " |-- Status: string (nullable = true)\n",
      " |-- RelativeAboundance: string (nullable = true)\n",
      " |-- Antropokor: string (nullable = true)\n",
      " |-- URL: string (nullable = true)\n",
      " |-- ArtsGruppe: string (nullable = true)\n",
      " |-- IName: string (nullable = true)\n",
      " |-- CName: string (nullable = true)\n",
      " |-- CategoryId: string (nullable = true)\n",
      "\n"
     ]
    }
   ],
   "source": [
    "redlist.printSchema()"
   ]
  },
  {
   "cell_type": "code",
   "execution_count": 17,
   "metadata": {},
   "outputs": [
    {
     "name": "stdout",
     "output_type": "stream",
     "text": [
      "0\n"
     ]
    }
   ],
   "source": [
    "# Check if we have any duplicate rows\n",
    "duplicates = redlist.count() - redlist.distinct().count()\n",
    "print(duplicates)"
   ]
  },
  {
   "cell_type": "code",
   "execution_count": 21,
   "metadata": {},
   "outputs": [
    {
     "data": {
      "text/plain": [
       "[Row(County='Agder', MuniName='Grimstad', Country='Norway', NorskNavn='taksvale'),\n",
       " Row(County='Trøndelag', MuniName='Levanger', Country='Norway', NorskNavn='stær'),\n",
       " Row(County='Trøndelag', MuniName='Ørland', Country='Norway', NorskNavn='storspove'),\n",
       " Row(County='Rogaland', MuniName='Stavanger', Country='Norway', NorskNavn='stær'),\n",
       " Row(County='Agder', MuniName='Farsund', Country='Norway', NorskNavn='sivspurv')]"
      ]
     },
     "execution_count": 21,
     "metadata": {},
     "output_type": "execute_result"
    }
   ],
   "source": [
    "redlist.select([\"County\", \"MuniName\", \"Country\", \"NorskNavn\"]).take(5)"
   ]
  },
  {
   "cell_type": "code",
   "execution_count": null,
   "metadata": {},
   "outputs": [],
   "source": [
    "# Register the DataFrame as a SQL temporary view\n",
    "redlist.createOrReplaceTempView(\"redlist\")"
   ]
  },
  {
   "cell_type": "markdown",
   "metadata": {},
   "source": [
    "#### Data exploration\n",
    "\n",
    "#### Questions to ask: \n",
    "- How many observations of redlisted species do we have in our dataset\n",
    "- Which redlisted specie were the most observed\n",
    "- Which redlisted specie were the least observed\n",
    "- How are the observations skeewed\n",
    "- Do we have any duplicates rows\n",
    "- Are there any corrupt rows"
   ]
  },
  {
   "cell_type": "code",
   "execution_count": 16,
   "metadata": {},
   "outputs": [
    {
     "data": {
      "text/plain": [
       "4384290"
      ]
     },
     "execution_count": 16,
     "metadata": {},
     "output_type": "execute_result"
    }
   ],
   "source": [
    "# How many observations of redlisted species do we have?\n",
    "redlist.count()"
   ]
  },
  {
   "cell_type": "code",
   "execution_count": 22,
   "metadata": {},
   "outputs": [
    {
     "name": "stdout",
     "output_type": "stream",
     "text": [
      "+--------------------+------+\n",
      "|             SPECIES|   CNT|\n",
      "+--------------------+------+\n",
      "|         Larus canus|364333|\n",
      "|Somateria mollissima|300448|\n",
      "|    Sturnus vulgaris|266324|\n",
      "| Emberiza citrinella|253517|\n",
      "|Chroicocephalus r...|189492|\n",
      "+--------------------+------+\n",
      "\n"
     ]
    }
   ],
   "source": [
    "# Which redlisted specieS are the most observed ones?\n",
    "species_observed = spark.sql(\"\"\"\n",
    "    SELECT SPECIES,\n",
    "           COUNT(*) AS CNT\n",
    "    FROM REDLIST\n",
    "    GROUP BY SPECIES\n",
    "    ORDER BY CNT DESC\n",
    "    limit 5\n",
    "\"\"\").show()"
   ]
  },
  {
   "cell_type": "code",
   "execution_count": 21,
   "metadata": {},
   "outputs": [
    {
     "name": "stdout",
     "output_type": "stream",
     "text": [
      "+--------------+\n",
      "|NUM_OF_SPECIES|\n",
      "+--------------+\n",
      "|          4075|\n",
      "+--------------+\n",
      "\n"
     ]
    }
   ],
   "source": [
    "# Count distinct redlisted species observed\n",
    "num_of_species = spark.sql(\"\"\"\n",
    "    SELECT COUNT(DISTINCT SPECIES) AS NUM_OF_SPECIES\n",
    "    FROM REDLIST\n",
    "\"\"\").show()"
   ]
  },
  {
   "cell_type": "code",
   "execution_count": 27,
   "metadata": {},
   "outputs": [
    {
     "name": "stdout",
     "output_type": "stream",
     "text": [
      "+---------------+-------+\n",
      "|MONTHIDENTIFIED|    CNT|\n",
      "+---------------+-------+\n",
      "|              0|4215033|\n",
      "|              1|  23978|\n",
      "|             10|  15870|\n",
      "|             11|   5216|\n",
      "|             12|   3809|\n",
      "|              2|   3400|\n",
      "|              3|   2485|\n",
      "|              4|   4090|\n",
      "|              5|   9104|\n",
      "|              6|  20445|\n",
      "|              7|  23163|\n",
      "|              8|  29187|\n",
      "|              9|  28510|\n",
      "+---------------+-------+\n",
      "\n"
     ]
    }
   ],
   "source": [
    "# Check how the observations are distributed on \"MonthIdentified\"\n",
    "dist_identified = spark.sql(\"\"\"\n",
    "\n",
    "    SELECT MONTHIDENTIFIED,\n",
    "           COUNT(*) AS CNT\n",
    "    FROM REDLIST\n",
    "    GROUP BY MONTHIDENTIFIED\n",
    "    ORDER BY MONTHIDENTIFIED ASC\n",
    "    \n",
    "\"\"\").show()"
   ]
  },
  {
   "cell_type": "code",
   "execution_count": 33,
   "metadata": {},
   "outputs": [
    {
     "name": "stdout",
     "output_type": "stream",
     "text": [
      "+--------------+------+\n",
      "|MONTHCOLLECTED|   CNT|\n",
      "+--------------+------+\n",
      "|             1|271527|\n",
      "|             2|182156|\n",
      "|             3|307859|\n",
      "|             4|544599|\n",
      "|             5|710578|\n",
      "|             6|532953|\n",
      "|             7|408897|\n",
      "|             8|460916|\n",
      "|             9|347744|\n",
      "|            10|302214|\n",
      "|            11|182210|\n",
      "|            12|132637|\n",
      "+--------------+------+\n",
      "\n"
     ]
    }
   ],
   "source": [
    "# Check how the observations are distributed on \"MonthCollected\"\n",
    "dist_identified = spark.sql(\"\"\"\n",
    "    -- Check how data is distributed on \"MonthCollected\"\n",
    "    SELECT MONTHCOLLECTED,\n",
    "           COUNT(*) AS CNT\n",
    "    FROM REDLIST\n",
    "    GROUP BY MONTHCOLLECTED\n",
    "    ORDER BY MONTHCOLLECTED ASC\n",
    "    \n",
    "\"\"\").show()"
   ]
  },
  {
   "cell_type": "code",
   "execution_count": 17,
   "metadata": {},
   "outputs": [],
   "source": [
    "# Copy our local file to S3 using AWS CLI\n",
    "!aws s3 cp output+filename s3a://<bucket-name> --recursive"
   ]
  }
 ],
 "metadata": {
  "kernelspec": {
   "display_name": "Python 3",
   "language": "python",
   "name": "python3"
  },
  "language_info": {
   "codemirror_mode": {
    "name": "ipython",
    "version": 3
   },
   "file_extension": ".py",
   "mimetype": "text/x-python",
   "name": "python",
   "nbconvert_exporter": "python",
   "pygments_lexer": "ipython3",
   "version": "3.8.5"
  }
 },
 "nbformat": 4,
 "nbformat_minor": 4
}
