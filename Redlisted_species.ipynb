{
 "cells": [
  {
   "cell_type": "markdown",
   "metadata": {},
   "source": [
    "# Redlisted species observations in Norway and nearby weather stations close to the species observation geo-location\n",
    "### Data Engineering Capstone Project\n",
    "\n",
    "#### Project Summary\n",
    "The project aims to provide a SQL query interface of Redlisted species in Norway. Every redlisted species observation is enriched with weather station metadata close to the species observation geo-location point. Data pre-processing and ETL is done with Python, PySpark and Spark SQL. The final datasets are stored as parquet tables hosted on AWS S3.\n",
    "\n",
    "#### Data sources\n",
    "\n",
    "#### Artskart\n",
    "Artskart is a Norwegian Citizen science project for recording species on maps into a national and freely accessible database. Artskart is owned by The Norwegian Biodiversity Information Centre. You may read more about Artskart here: https://www.biodiversity.no/Pages/135580/About_Norwegian_Biodiversity_Information_Centre?Key=1435226530 \n",
    "\n",
    "#### MET Norway\n",
    "The Norwegian Meteorological Institute (MET Norway) forecasts weather and monitors the climate. Data from MET Norway is gathered from their free API service here: https://api.met.no/. You may read more about MET here: https://www.met.no/en/About-us/About-MET-Norway\n",
    "\n",
    "\n",
    "The project follows the follow steps:\n",
    "* Step 1: Scope the Project and Gather Data\n",
    "* Step 2: Explore and Assess the Data\n",
    "* Step 3: Define the Data Model\n",
    "* Step 4: Run ETL to Model the Data\n",
    "* Step 5: Complete Project Write Up"
   ]
  },
  {
   "cell_type": "code",
   "execution_count": 1,
   "metadata": {},
   "outputs": [],
   "source": [
    "# ! pip install findspark\n",
    "import findspark\n",
    "findspark.init()\n",
    "import pandas as pd\n",
    "import pyodbc\n",
    "import numpy as np\n",
    "import matplotlib as plt\n",
    "import os\n",
    "import configparser\n",
    "import pyspark.sql.functions as F\n",
    "import requests\n",
    "import configparser\n",
    "import boto3\n",
    "import json\n",
    "import pandas as pd\n",
    "\n",
    "%matplotlib inline\n",
    "\n",
    "from pyspark import SparkContext, SparkConf, SQLContext\n",
    "from pyspark.sql import SparkSession\n",
    "from pyspark.sql.types import DateType, TimestampType\n",
    "from pyspark.sql.functions import udf, col\n",
    "from pyspark.sql.functions import year, month, dayofmonth, hour, weekofyear, date_format\n",
    "from pyspark.sql.types import StructType  as R,    \\\n",
    "                              StructField as Fld,  \\\n",
    "                              DoubleType  as Dbl,  \\\n",
    "                              StringType  as Str,  \\\n",
    "                              IntegerType as Int,  \\\n",
    "                              DateType    as Date, \\\n",
    "                              ArrayType   as Arr,  \\\n",
    "                              BooleanType as Bool"
   ]
  },
  {
   "cell_type": "code",
   "execution_count": 2,
   "metadata": {},
   "outputs": [],
   "source": [
    "# Read configuration file\n",
    "config = configparser.ConfigParser()\n",
    "config.read_file(open('dwh.cfg'))\n",
    "\n",
    "# AWS \n",
    "os.environ[\"AWS_ACCESS_KEY_ID\"]= config['AWS']['key']\n",
    "os.environ[\"AWS_SECRET_ACCESS_KEY\"]= config['AWS']['secret']\n",
    "\n",
    "# MET Norway\n",
    "client_id = config['MET']['key']"
   ]
  },
  {
   "cell_type": "markdown",
   "metadata": {},
   "source": [
    "### Step 1: Scope the Project and Gather Data\n",
    "\n",
    "Create a dimensional model of Redlisted species observations in Norway and enrich each redlisted species observations with information about nearby weather stations.\n",
    "\n",
    "#### Describe and Gather Data \n",
    "\n",
    "#### Artskart\n",
    "Artskart2Index is Artskart's Microsoft SQL server relational datatabase where all species observation data is broken down and stored into different tables in 3NF. I'm using an existing view availiable in the database's view folder to fetch <em><strong>only</strong></em> the redlisted species observations. Artskart2Index is restored on my local computer using SQL Server and the backup-file containing all speciess observation until the 7. march 2021.\n",
    "\n",
    "#### Gather data from Artskart using PySpark and JDBC - Schematics\n",
    "<img src=\"schematics.jpg\" alt=\"Schematics\" width=\"700\" height=\"700\">"
   ]
  },
  {
   "cell_type": "code",
   "execution_count": 3,
   "metadata": {},
   "outputs": [],
   "source": [
    "# Gather data from SQL Server using PySpark and JDBC"
   ]
  },
  {
   "cell_type": "code",
   "execution_count": 4,
   "metadata": {},
   "outputs": [],
   "source": [
    "# Create SparkConf with native microsoft jdbc driver for sql-server\n",
    "configure = SparkConf().setAppName(\"Artskart\")\\\n",
    "                       .setMaster(\"local[*]\")\\\n",
    "                       .set(\"spark.driver.extraClassPath\",\"sqljdbc_9.2/enu/mssql-jdbc-9.2.1.jre8.jar\")\n",
    "\n",
    "# Create SparkContext and connect to our application\n",
    "sc = SparkContext(conf = configure)\n",
    "\n",
    "# Create spark session\n",
    "spark = SparkSession \\\n",
    "    .builder \\\n",
    "    .getOrCreate()\n",
    "\n",
    "# Set database credentials\n",
    "jdbcHostname=\"localhost\"\n",
    "jdbcPort=1433\n",
    "jdbcDatabase=\"Artskart2Index\"\n",
    "jdbcUsername=\"jdbcusername\"\n",
    "jdbcPassword=\"jdbcpassword\"\n",
    "\n",
    "# Configure JDBC connection URL\n",
    "jdbcUrl = \"jdbc:sqlserver://{0}:{1};Database={2};\".format(jdbcHostname, jdbcPort, jdbcDatabase)\n",
    "\n",
    "connectionProperties = {\n",
    "  \"user\" : jdbcUsername,\n",
    "  \"password\" : jdbcPassword,\n",
    "  \"driver\" : \"com.microsoft.sqlserver.jdbc.SQLServerDriver\"\n",
    "}"
   ]
  },
  {
   "cell_type": "markdown",
   "metadata": {},
   "source": [
    "##### this error might occur when connecting with native JDBC driver\n",
    "`com.microsoft.sqlserver.jdbc.SQLServerException: The TCP/IP connection to the host HOSTNAME, port 1433 has failed.\n",
    "Error: \"Connection refused: connect. Verify the connection properties. Make sure that an instance of SQL Server is running on the host and accepting TCP/IP connections at the port.\n",
    "Make sure that TCP connections to the port are not blocked by a firewall.`\n",
    "\n",
    "please read further: https://kb.sos-berlin.com/pages/viewpage.action?pageId=17499564"
   ]
  },
  {
   "cell_type": "code",
   "execution_count": 6,
   "metadata": {},
   "outputs": [
    {
     "data": {
      "text/plain": [
       "DataFrame[FID: int, ProxyId: string, NodeDatabaseID: int, InstitutionCode: string, CollectionCode: string, CatalogNumber: string, VitNavn: string, BasisOfRecord: string, Kingdom: string, Phylum: string, Class: string, Order: string, Family: string, Genus: string, Species: string, Subspecies: string, Author: string, IdentifiedBy: string, YearIdentified: int, MonthIdentified: int, DayIdentified: int, TypeStatus: string, CollectorNumber: string, FieldNumber: string, Collector: string, YearCollected: int, MonthCollected: int, DayCollected: int, ContinentOcean: string, Country: string, StateProvince: string, CountyOrg: string, Locality: string, CountyID: string, MunicipalityID: string, County: string, MuniName: string, Longitude: double, Latitude: double, CoordinatePrecision: int, BoundingBox: string, MinElevation: int, MaxElevation: int, MinDepth: string, MaxDepth: string, Sex: string, PreparationType: string, IndividualCount: string, PreviousCatalogNumber: string, RelationshipType: string, RelatedCatalogItem: string, Notes: string, CollectingMethod: string, IdentificationPrecision: int, NorskNavn: string, Okologi: string, Habitat: string, Substrat: string, UTMost: int, UTMnord: int, UTMsone: string, MGRSfra: string, MGRStil: string, UTM33ost: int, UTM33nord: int, KoordKilde: string, ElevationKilde: string, Status: string, RelativeAboundance: string, Antropokor: int, URL: string, ArtsGruppe: int, IName: string, CName: string, CategoryId: int]"
      ]
     },
     "metadata": {},
     "output_type": "display_data"
    }
   ],
   "source": [
    "# Query Artskart2Index database view\n",
    "pushdown_query = \"(select * from View_ShapeExportRedlist) redlist_alias\"\n",
    "\n",
    "# Push down database query and read results into Spark dataframe\n",
    "df = spark.read.jdbc(url=jdbcUrl, table=pushdown_query, properties=connectionProperties)\n",
    "display(df)"
   ]
  },
  {
   "cell_type": "code",
   "execution_count": 8,
   "metadata": {},
   "outputs": [],
   "source": [
    "# Set filename\n",
    "file_name = \"redlist.csv\"\n",
    "\n",
    "# Set output path to local working directory\n",
    "out_path = os.path.basename(file_name)"
   ]
  },
  {
   "cell_type": "code",
   "execution_count": 9,
   "metadata": {},
   "outputs": [],
   "source": [
    "# Save a copy on my local working directory repartitioned by 8 - number of cores availiable on my local machine\n",
    "df.repartition(8).write.save(out_path, format=\"csv\", header=True, encoding=\"UTF-8\") # row count: 4,384,290"
   ]
  },
  {
   "cell_type": "code",
   "execution_count": 114,
   "metadata": {},
   "outputs": [],
   "source": [
    "# Read file back into RAM with Spark\n",
    "redlist_spark_df = spark.read.csv(out_path, header=True, encoding=\"UTF-8\")"
   ]
  },
  {
   "cell_type": "code",
   "execution_count": 115,
   "metadata": {},
   "outputs": [
    {
     "name": "stdout",
     "output_type": "stream",
     "text": [
      "+--------+--------------------+--------------+---------------+--------------+-------------+--------------------+----------------+--------+--------+-----+---------------+------------+--------+--------------------+----------+----------------+------------+--------------+---------------+-------------+----------+---------------+-----------+--------------------+-------------+--------------+------------+--------------+-------+-------------+---------+--------------------+--------+--------------+---------+---------+---------+---------+-------------------+-----------+------------+------------+--------+--------+-------+---------------+---------------+---------------------+----------------+------------------+--------------------+----------------+-----------------------+---------+-------+-------+--------+------+-------+-------+-------+-------+--------+---------+----------+--------------+------+------------------+----------+--------------------+----------+--------------------+--------------------+----------+\n",
      "|     FID|             ProxyId|NodeDatabaseID|InstitutionCode|CollectionCode|CatalogNumber|             VitNavn|   BasisOfRecord| Kingdom|  Phylum|Class|          Order|      Family|   Genus|             Species|Subspecies|          Author|IdentifiedBy|YearIdentified|MonthIdentified|DayIdentified|TypeStatus|CollectorNumber|FieldNumber|           Collector|YearCollected|MonthCollected|DayCollected|ContinentOcean|Country|StateProvince|CountyOrg|            Locality|CountyID|MunicipalityID|   County| MuniName|Longitude| Latitude|CoordinatePrecision|BoundingBox|MinElevation|MaxElevation|MinDepth|MaxDepth|    Sex|PreparationType|IndividualCount|PreviousCatalogNumber|RelationshipType|RelatedCatalogItem|               Notes|CollectingMethod|IdentificationPrecision|NorskNavn|Okologi|Habitat|Substrat|UTMost|UTMnord|UTMsone|MGRSfra|MGRStil|UTM33ost|UTM33nord|KoordKilde|ElevationKilde|Status|RelativeAboundance|Antropokor|                 URL|ArtsGruppe|               IName|               CName|CategoryId|\n",
      "+--------+--------------------+--------------+---------------+--------------+-------------+--------------------+----------------+--------+--------+-----+---------------+------------+--------+--------------------+----------+----------------+------------+--------------+---------------+-------------+----------+---------------+-----------+--------------------+-------------+--------------+------------+--------------+-------+-------------+---------+--------------------+--------+--------------+---------+---------+---------+---------+-------------------+-----------+------------+------------+--------+--------+-------+---------------+---------------+---------------------+----------------+------------------+--------------------+----------------+-----------------------+---------+-------+-------+--------+------+-------+-------+-------+-------+--------+---------+----------+--------------+------+------------------+----------+--------------------+----------+--------------------+--------------------+----------+\n",
      "|41954328|urn:uuid:43688d2a...|          1010|            NOF|     so2-birds|     24208745|    Delichon urbicum|humanobservation|Animalia|Chordata| Aves|  Passeriformes|Hirundinidae|Delichon|    Delichon urbicum|      null|(Linnaeus, 1758)|        null|             0|              0|            0|      null|           null|       null|        Frank Holmen|         2020|             5|          19|          null| Norway|         null|     null|Møssevoll, Vessøy...|      42|          4202|    Agder| Grimstad| 8.694183|58.388015|                116|       null|        null|        null|    null|    null|   null|           null|              3|                 null|            null|              null|   Activity: Forage.|            null|                      0| taksvale|   null|   null|    null|131645|6489200|    33V|   null|   null|  131645|  6489200|        OR|          null|    NT|              null|         0|https://www.artso...|         8|Norsk Ornitologis...|so2-birds hos Nor...|        11|\n",
      "| 9032165|urn:uuid:5ca46f15...|          1010|            NOF|     so2-birds|      2723568|    Sturnus vulgaris|humanobservation|Animalia|Chordata| Aves|  Passeriformes|   Sturnidae| Sturnus|    Sturnus vulgaris|      null|  Linnaeus, 1758|        null|             0|              0|            0|      null|           null|       null|Ole Martin Sæterhaug|         2010|             6|           1|          null| Norway|         null|     null|Floan, Munkeby, L...|      50|          5037|Trøndelag| Levanger|11.353591|63.731382|                 17|       null|        null|        null|    null|    null|   null|           null|              4|      NOF/SO-Birds/75|            null|              null|                null|            null|                      0|     stær|   null|   null|    null|320010|7072220|    33V|   null|   null|  320010|  7072220|        OR|          null|    NT|              null|         0|https://www.artso...|         8|Norsk Ornitologis...|so2-birds hos Nor...|        11|\n",
      "|12626499|urn:uuid:c914f20f...|          1010|            NOF|     so2-birds|     10187334|    Numenius arquata|humanobservation|Animalia|Chordata| Aves|Charadriiformes|Scolopacidae|Numenius|    Numenius arquata|      null|(Linnaeus, 1758)|        null|             0|              0|            0|      null|           null|       null|Fredrik Schevig|E...|         2011|            12|           4|          null| Norway|         null|     null|  Uthaug, Ørland, Tø|      50|          5057|Trøndelag|   Ørland| 9.602281|63.726475|                300|       null|        null|        null|    null|    null|   null|           null|              3|      NOF/SO-Birds/97|            null|              null|Validationstatus:...|            null|                      0|storspove|   null|   null|    null|233648|7077797|    33V|   null|   null|  233648|  7077797|        OR|          null|    VU|              null|         0|https://www.artso...|         8|Norsk Ornitologis...|so2-birds hos Nor...|        12|\n",
      "|32239303|urn:uuid:3b0117a3...|          1010|            NOF|     so2-birds|     21490440|    Sturnus vulgaris|humanobservation|Animalia|Chordata| Aves|  Passeriformes|   Sturnidae| Sturnus|    Sturnus vulgaris|      null|  Linnaeus, 1758|        null|             0|              0|            0|      null|           null|       null|Jan Alsvik|Marit ...|         2019|             4|          22|          null| Norway|         null|     null|Kvernevikskogen, ...|      11|          1103| Rogaland|Stavanger| 5.617651|58.977989|                 37|       null|        null|        null|    null|    null|   null|           null|              4|                 null|            null|              null|                null|            null|                      0|     stær|   null|   null|    null|-38244|6575497|    33V|   null|   null|  -38244|  6575497|        OR|          null|    NT|              null|         0|https://www.artso...|         8|Norsk Ornitologis...|so2-birds hos Nor...|        11|\n",
      "|25121434|urn:uuid:86035ae0...|          1010|            NOF|     so2-birds|     18684596|Emberiza schoeniclus|humanobservation|Animalia|Chordata| Aves|  Passeriformes| Emberizidae|Emberiza|Emberiza schoeniclus|      null|(Linnaeus, 1758)|        null|             0|              0|            0|      null|           null|       null|          Kåre Olsen|         2001|             5|          10|          null| Norway|         null|     null|Nesheimsumpen øst...|      42|          4206|    Agder|  Farsund| 6.675632|58.086431|                  1|       null|        null|        null|    null|    null|in pair|           null|              2|                 null|            null|              null|Activity: PairInS...|            null|                      0| sivspurv|   null|   null|    null|  9905|6468637|    33V|   null|   null|    9905|  6468637|      null|          null|    NT|              null|         0|https://www.artso...|         8|Norsk Ornitologis...|so2-birds hos Nor...|        11|\n",
      "+--------+--------------------+--------------+---------------+--------------+-------------+--------------------+----------------+--------+--------+-----+---------------+------------+--------+--------------------+----------+----------------+------------+--------------+---------------+-------------+----------+---------------+-----------+--------------------+-------------+--------------+------------+--------------+-------+-------------+---------+--------------------+--------+--------------+---------+---------+---------+---------+-------------------+-----------+------------+------------+--------+--------+-------+---------------+---------------+---------------------+----------------+------------------+--------------------+----------------+-----------------------+---------+-------+-------+--------+------+-------+-------+-------+-------+--------+---------+----------+--------------+------+------------------+----------+--------------------+----------+--------------------+--------------------+----------+\n",
      "only showing top 5 rows\n",
      "\n"
     ]
    }
   ],
   "source": [
    "# Print a sample\n",
    "redlist_spark_df.show(5)"
   ]
  },
  {
   "cell_type": "code",
   "execution_count": 111,
   "metadata": {},
   "outputs": [
    {
     "name": "stdout",
     "output_type": "stream",
     "text": [
      "root\n",
      " |-- FID: string (nullable = true)\n",
      " |-- ProxyId: string (nullable = true)\n",
      " |-- NodeDatabaseID: string (nullable = true)\n",
      " |-- InstitutionCode: string (nullable = true)\n",
      " |-- CollectionCode: string (nullable = true)\n",
      " |-- CatalogNumber: string (nullable = true)\n",
      " |-- VitNavn: string (nullable = true)\n",
      " |-- BasisOfRecord: string (nullable = true)\n",
      " |-- Kingdom: string (nullable = true)\n",
      " |-- Phylum: string (nullable = true)\n",
      " |-- Class: string (nullable = true)\n",
      " |-- Order: string (nullable = true)\n",
      " |-- Family: string (nullable = true)\n",
      " |-- Genus: string (nullable = true)\n",
      " |-- Species: string (nullable = true)\n",
      " |-- Subspecies: string (nullable = true)\n",
      " |-- Author: string (nullable = true)\n",
      " |-- IdentifiedBy: string (nullable = true)\n",
      " |-- YearIdentified: string (nullable = true)\n",
      " |-- MonthIdentified: string (nullable = true)\n",
      " |-- DayIdentified: string (nullable = true)\n",
      " |-- TypeStatus: string (nullable = true)\n",
      " |-- CollectorNumber: string (nullable = true)\n",
      " |-- FieldNumber: string (nullable = true)\n",
      " |-- Collector: string (nullable = true)\n",
      " |-- YearCollected: string (nullable = true)\n",
      " |-- MonthCollected: string (nullable = true)\n",
      " |-- DayCollected: string (nullable = true)\n",
      " |-- ContinentOcean: string (nullable = true)\n",
      " |-- Country: string (nullable = true)\n",
      " |-- StateProvince: string (nullable = true)\n",
      " |-- CountyOrg: string (nullable = true)\n",
      " |-- Locality: string (nullable = true)\n",
      " |-- CountyID: string (nullable = true)\n",
      " |-- MunicipalityID: string (nullable = true)\n",
      " |-- County: string (nullable = true)\n",
      " |-- MuniName: string (nullable = true)\n",
      " |-- Longitude: string (nullable = true)\n",
      " |-- Latitude: string (nullable = true)\n",
      " |-- CoordinatePrecision: string (nullable = true)\n",
      " |-- BoundingBox: string (nullable = true)\n",
      " |-- MinElevation: string (nullable = true)\n",
      " |-- MaxElevation: string (nullable = true)\n",
      " |-- MinDepth: string (nullable = true)\n",
      " |-- MaxDepth: string (nullable = true)\n",
      " |-- Sex: string (nullable = true)\n",
      " |-- PreparationType: string (nullable = true)\n",
      " |-- IndividualCount: string (nullable = true)\n",
      " |-- PreviousCatalogNumber: string (nullable = true)\n",
      " |-- RelationshipType: string (nullable = true)\n",
      " |-- RelatedCatalogItem: string (nullable = true)\n",
      " |-- Notes: string (nullable = true)\n",
      " |-- CollectingMethod: string (nullable = true)\n",
      " |-- IdentificationPrecision: string (nullable = true)\n",
      " |-- NorskNavn: string (nullable = true)\n",
      " |-- Okologi: string (nullable = true)\n",
      " |-- Habitat: string (nullable = true)\n",
      " |-- Substrat: string (nullable = true)\n",
      " |-- UTMost: string (nullable = true)\n",
      " |-- UTMnord: string (nullable = true)\n",
      " |-- UTMsone: string (nullable = true)\n",
      " |-- MGRSfra: string (nullable = true)\n",
      " |-- MGRStil: string (nullable = true)\n",
      " |-- UTM33ost: string (nullable = true)\n",
      " |-- UTM33nord: string (nullable = true)\n",
      " |-- KoordKilde: string (nullable = true)\n",
      " |-- ElevationKilde: string (nullable = true)\n",
      " |-- Status: string (nullable = true)\n",
      " |-- RelativeAboundance: string (nullable = true)\n",
      " |-- Antropokor: string (nullable = true)\n",
      " |-- URL: string (nullable = true)\n",
      " |-- ArtsGruppe: string (nullable = true)\n",
      " |-- IName: string (nullable = true)\n",
      " |-- CName: string (nullable = true)\n",
      " |-- CategoryId: string (nullable = true)\n",
      "\n"
     ]
    }
   ],
   "source": [
    "# Print schema\n",
    "redlist_spark_df.printSchema()"
   ]
  },
  {
   "cell_type": "code",
   "execution_count": null,
   "metadata": {},
   "outputs": [],
   "source": [
    "# Copy the CSV file to S3-bucket using AWS CLI\n",
    "!aws s3 out_path s3a://<bucket-name> --recursive"
   ]
  },
  {
   "cell_type": "code",
   "execution_count": 16,
   "metadata": {},
   "outputs": [],
   "source": [
    "# Stop the underlying SparkContext\n",
    "spark.stop()"
   ]
  },
  {
   "cell_type": "markdown",
   "metadata": {},
   "source": [
    "#### MET Norway\n",
    "Data from The Norwegian Meteorological Institute (MET Norway) is gathered from their free API service here: https://api.met.no/.\n",
    "\n",
    "- Create a user profile on MET Norways homepage and get your unique client_id providing API access\n",
    "- Define the API endpoint to return (json) meta data about all Norwegian weather stations\n",
    "- Extract JSON data and write the result to a CSV-file"
   ]
  },
  {
   "cell_type": "code",
   "execution_count": 17,
   "metadata": {},
   "outputs": [],
   "source": [
    "# Gather weather station metadata from MET (The Norwegian Meteroligical Institute)"
   ]
  },
  {
   "cell_type": "code",
   "execution_count": 5,
   "metadata": {},
   "outputs": [
    {
     "name": "stdout",
     "output_type": "stream",
     "text": [
      "Data retrieved from frost.met.no!\n"
     ]
    }
   ],
   "source": [
    "# \n",
    "# Code adapted from: https://frost.met.no/python_example.html (accessed June 9, 2021)\n",
    "#\n",
    "\n",
    "# Define endpoint\n",
    "endpoint = 'https://frost.met.no/sources/v0.jsonld?country=NO'\n",
    "\n",
    "# Issue an HTTP GET request\n",
    "r = requests.get(endpoint, auth=(client_id,''))\n",
    "# Extract JSON data\n",
    "json = r.json()\n",
    "\n",
    "# Check if the request worked, print out any errors\n",
    "if r.status_code == 200:\n",
    "    weather_station_data_api = json['data']\n",
    "    print('Data retrieved from frost.met.no!')\n",
    "else:\n",
    "    print('Error! Returned status code %s' % r.status_code)\n",
    "    print('Message: %s' % json['error']['message'])\n",
    "    print('Reason: %s' % json['error']['reason'])"
   ]
  },
  {
   "cell_type": "markdown",
   "metadata": {},
   "source": [
    "### Step 2: Explore and Assess the Data\n",
    "#### Explore the Data"
   ]
  },
  {
   "cell_type": "code",
   "execution_count": 19,
   "metadata": {},
   "outputs": [],
   "source": [
    "# Explore Redlisted species Observations from our newly created CSV file"
   ]
  },
  {
   "cell_type": "code",
   "execution_count": 6,
   "metadata": {},
   "outputs": [],
   "source": [
    "spark = SparkSession.builder\\\n",
    "                     .config(\"spark.jars.packages\",\"org.apache.hadoop:hadoop-aws:2.7.0\")\\\n",
    "                     .getOrCreate()"
   ]
  },
  {
   "cell_type": "code",
   "execution_count": 75,
   "metadata": {},
   "outputs": [
    {
     "name": "stdout",
     "output_type": "stream",
     "text": [
      "root\n",
      " |-- FID: string (nullable = true)\n",
      " |-- ProxyId: string (nullable = true)\n",
      " |-- NodeDatabaseID: string (nullable = true)\n",
      " |-- InstitutionCode: string (nullable = true)\n",
      " |-- CollectionCode: string (nullable = true)\n",
      " |-- CatalogNumber: string (nullable = true)\n",
      " |-- VitNavn: string (nullable = true)\n",
      " |-- BasisOfRecord: string (nullable = true)\n",
      " |-- Kingdom: string (nullable = true)\n",
      " |-- Phylum: string (nullable = true)\n",
      " |-- Class: string (nullable = true)\n",
      " |-- Order: string (nullable = true)\n",
      " |-- Family: string (nullable = true)\n",
      " |-- Genus: string (nullable = true)\n",
      " |-- Species: string (nullable = true)\n",
      " |-- Subspecies: string (nullable = true)\n",
      " |-- Author: string (nullable = true)\n",
      " |-- IdentifiedBy: string (nullable = true)\n",
      " |-- YearIdentified: string (nullable = true)\n",
      " |-- MonthIdentified: string (nullable = true)\n",
      " |-- DayIdentified: string (nullable = true)\n",
      " |-- TypeStatus: string (nullable = true)\n",
      " |-- CollectorNumber: string (nullable = true)\n",
      " |-- FieldNumber: string (nullable = true)\n",
      " |-- Collector: string (nullable = true)\n",
      " |-- YearCollected: string (nullable = true)\n",
      " |-- MonthCollected: string (nullable = true)\n",
      " |-- DayCollected: string (nullable = true)\n",
      " |-- ContinentOcean: string (nullable = true)\n",
      " |-- Country: string (nullable = true)\n",
      " |-- StateProvince: string (nullable = true)\n",
      " |-- CountyOrg: string (nullable = true)\n",
      " |-- Locality: string (nullable = true)\n",
      " |-- CountyID: string (nullable = true)\n",
      " |-- MunicipalityID: string (nullable = true)\n",
      " |-- County: string (nullable = true)\n",
      " |-- MuniName: string (nullable = true)\n",
      " |-- Longitude: string (nullable = true)\n",
      " |-- Latitude: string (nullable = true)\n",
      " |-- CoordinatePrecision: string (nullable = true)\n",
      " |-- BoundingBox: string (nullable = true)\n",
      " |-- MinElevation: string (nullable = true)\n",
      " |-- MaxElevation: string (nullable = true)\n",
      " |-- MinDepth: string (nullable = true)\n",
      " |-- MaxDepth: string (nullable = true)\n",
      " |-- Sex: string (nullable = true)\n",
      " |-- PreparationType: string (nullable = true)\n",
      " |-- IndividualCount: string (nullable = true)\n",
      " |-- PreviousCatalogNumber: string (nullable = true)\n",
      " |-- RelationshipType: string (nullable = true)\n",
      " |-- RelatedCatalogItem: string (nullable = true)\n",
      " |-- Notes: string (nullable = true)\n",
      " |-- CollectingMethod: string (nullable = true)\n",
      " |-- IdentificationPrecision: string (nullable = true)\n",
      " |-- NorskNavn: string (nullable = true)\n",
      " |-- Okologi: string (nullable = true)\n",
      " |-- Habitat: string (nullable = true)\n",
      " |-- Substrat: string (nullable = true)\n",
      " |-- UTMost: string (nullable = true)\n",
      " |-- UTMnord: string (nullable = true)\n",
      " |-- UTMsone: string (nullable = true)\n",
      " |-- MGRSfra: string (nullable = true)\n",
      " |-- MGRStil: string (nullable = true)\n",
      " |-- UTM33ost: string (nullable = true)\n",
      " |-- UTM33nord: string (nullable = true)\n",
      " |-- KoordKilde: string (nullable = true)\n",
      " |-- ElevationKilde: string (nullable = true)\n",
      " |-- Status: string (nullable = true)\n",
      " |-- RelativeAboundance: string (nullable = true)\n",
      " |-- Antropokor: string (nullable = true)\n",
      " |-- URL: string (nullable = true)\n",
      " |-- ArtsGruppe: string (nullable = true)\n",
      " |-- IName: string (nullable = true)\n",
      " |-- CName: string (nullable = true)\n",
      " |-- CategoryId: string (nullable = true)\n",
      "\n"
     ]
    }
   ],
   "source": [
    "# Read data into memory with PySpark \n",
    "redlist = spark.read.csv(out_path, header=True, encoding=\"UTF-8\")\n",
    "\n",
    "# print schema\n",
    "redlist.printSchema()"
   ]
  },
  {
   "cell_type": "code",
   "execution_count": 22,
   "metadata": {},
   "outputs": [
    {
     "data": {
      "text/plain": [
       "4384290"
      ]
     },
     "execution_count": 22,
     "metadata": {},
     "output_type": "execute_result"
    }
   ],
   "source": [
    "# How many observations of redlisted species do we have?\n",
    "redlist.count()"
   ]
  },
  {
   "cell_type": "code",
   "execution_count": 23,
   "metadata": {},
   "outputs": [
    {
     "name": "stdout",
     "output_type": "stream",
     "text": [
      "0\n"
     ]
    }
   ],
   "source": [
    "# Check if we have any duplicate rows\n",
    "duplicates = redlist.count() - redlist.distinct().count()\n",
    "print(duplicates)"
   ]
  },
  {
   "cell_type": "code",
   "execution_count": 35,
   "metadata": {},
   "outputs": [
    {
     "data": {
      "text/plain": [
       "<AxesSubplot:xlabel='MonthCollected'>"
      ]
     },
     "execution_count": 35,
     "metadata": {},
     "output_type": "execute_result"
    },
    {
     "data": {
      "image/png": "[encoded data removed]",
      "text/plain": [
       "<Figure size 432x288 with 1 Axes>"
      ]
     },
     "metadata": {
      "needs_background": "light"
     },
     "output_type": "display_data"
    },
    {
     "data": {
      "image/png": "[encoded data removed]",
      "text/plain": [
       "<Figure size 432x288 with 1 Axes>"
      ]
     },
     "metadata": {
      "needs_background": "light"
     },
     "output_type": "display_data"
    }
   ],
   "source": [
    "# Check how the observation data is skeewed\n",
    "\n",
    "# Register Redlisted Species DataFrame as a SQL temporary view\n",
    "redlist.createOrReplaceTempView(\"redlist\")\n",
    "\n",
    "# Count observations per year identified\n",
    "YearCollected_skeew = spark.sql(\"\"\"\n",
    "\n",
    "    SELECT CAST(YearCollected AS INT) AS YearCollected, \n",
    "           COUNT(*) AS CNT \n",
    "    FROM REDLIST\n",
    "    GROUP BY YearCollected\n",
    "    ORDER BY CAST(YearCollected AS INT) ASC\n",
    "\n",
    "\"\"\").toPandas()\n",
    "\n",
    "# plot year_identified_skeew\n",
    "YearCollected_skeew.plot(x=\"YearCollected\", y=\"CNT\")\n",
    "\n",
    "# Count observations per month identified\n",
    "MonthCollected_skeew = spark.sql(\"\"\"\n",
    "\n",
    "    SELECT CAST(MonthCollected AS INT) as MonthCollected, \n",
    "           COUNT(*) AS CNT \n",
    "    FROM REDLIST\n",
    "    GROUP BY MonthCollected\n",
    "    ORDER BY CAST(MonthCollected AS INT) ASC\n",
    "    \n",
    "\"\"\").toPandas()\n",
    "\n",
    "# plot month_identified_skeew\n",
    "MonthCollected_skeew.plot(x=\"MonthCollected\", y=\"CNT\")"
   ]
  },
  {
   "cell_type": "markdown",
   "metadata": {},
   "source": [
    "#### Findings \n",
    "- All data in my CSV file were stored as string type\n",
    "- `YearIdentified` is heavily skeewed around year 2000 and forward\n",
    "- `MonthIdentified` indicates a seasonal data set with peaks in May, June, July and August. The number of observations differs around 5 million which is quite a lot considering this particular dataset."
   ]
  },
  {
   "cell_type": "code",
   "execution_count": 27,
   "metadata": {},
   "outputs": [],
   "source": [
    "# Explore Weather Station Meta data from MET Norway API"
   ]
  },
  {
   "cell_type": "code",
   "execution_count": 28,
   "metadata": {},
   "outputs": [
    {
     "data": {
      "text/html": [
       "<div>\n",
       "<style scoped>\n",
       "    .dataframe tbody tr th:only-of-type {\n",
       "        vertical-align: middle;\n",
       "    }\n",
       "\n",
       "    .dataframe tbody tr th {\n",
       "        vertical-align: top;\n",
       "    }\n",
       "\n",
       "    .dataframe thead th {\n",
       "        text-align: right;\n",
       "    }\n",
       "</style>\n",
       "<table border=\"1\" class=\"dataframe\">\n",
       "  <thead>\n",
       "    <tr style=\"text-align: right;\">\n",
       "      <th></th>\n",
       "      <th>@type</th>\n",
       "      <th>id</th>\n",
       "      <th>name</th>\n",
       "      <th>shortName</th>\n",
       "      <th>country</th>\n",
       "      <th>countryCode</th>\n",
       "      <th>geometry</th>\n",
       "      <th>masl</th>\n",
       "      <th>validFrom</th>\n",
       "      <th>county</th>\n",
       "      <th>countyId</th>\n",
       "      <th>municipality</th>\n",
       "      <th>municipalityId</th>\n",
       "      <th>stationHolders</th>\n",
       "      <th>externalIds</th>\n",
       "      <th>wigosId</th>\n",
       "      <th>wmoId</th>\n",
       "      <th>icaoCodes</th>\n",
       "      <th>shipCodes</th>\n",
       "    </tr>\n",
       "  </thead>\n",
       "  <tbody>\n",
       "    <tr>\n",
       "      <th>0</th>\n",
       "      <td>SensorSystem</td>\n",
       "      <td>SN47230</td>\n",
       "      <td>ÅKRA UNGDOMSSKOLE</td>\n",
       "      <td>Åkra</td>\n",
       "      <td>Norge</td>\n",
       "      <td>NO</td>\n",
       "      <td>{'@type': 'Point', 'coordinates': [5.1963, 59....</td>\n",
       "      <td>18.0</td>\n",
       "      <td>2013-10-29T00:00:00.000Z</td>\n",
       "      <td>ROGALAND</td>\n",
       "      <td>11.0</td>\n",
       "      <td>KARMØY</td>\n",
       "      <td>1149.0</td>\n",
       "      <td>[KARMØY KOMMUNE]</td>\n",
       "      <td>[506131077]</td>\n",
       "      <td>0-578-0-47230</td>\n",
       "      <td>NaN</td>\n",
       "      <td>NaN</td>\n",
       "      <td>NaN</td>\n",
       "    </tr>\n",
       "    <tr>\n",
       "      <th>1</th>\n",
       "      <td>SensorSystem</td>\n",
       "      <td>SN23670</td>\n",
       "      <td>E16 RYFOSS</td>\n",
       "      <td>E16 Ryfoss</td>\n",
       "      <td>Norge</td>\n",
       "      <td>NO</td>\n",
       "      <td>{'@type': 'Point', 'coordinates': [8.8175, 61....</td>\n",
       "      <td>406.0</td>\n",
       "      <td>2018-01-23T00:00:00.000Z</td>\n",
       "      <td>INNLANDET</td>\n",
       "      <td>34.0</td>\n",
       "      <td>VANG</td>\n",
       "      <td>3454.0</td>\n",
       "      <td>[STATENS VEGVESEN]</td>\n",
       "      <td>[1755, 3000021]</td>\n",
       "      <td>0-578-0-23670</td>\n",
       "      <td>NaN</td>\n",
       "      <td>NaN</td>\n",
       "      <td>NaN</td>\n",
       "    </tr>\n",
       "    <tr>\n",
       "      <th>2</th>\n",
       "      <td>SensorSystem</td>\n",
       "      <td>SN59450</td>\n",
       "      <td>STADLANDET</td>\n",
       "      <td>Stadlandet</td>\n",
       "      <td>Norge</td>\n",
       "      <td>NO</td>\n",
       "      <td>{'@type': 'Point', 'coordinates': [5.2115, 62....</td>\n",
       "      <td>75.0</td>\n",
       "      <td>1923-01-01T00:00:00.000Z</td>\n",
       "      <td>VESTLAND</td>\n",
       "      <td>46.0</td>\n",
       "      <td>STAD</td>\n",
       "      <td>4649.0</td>\n",
       "      <td>[MET.NO]</td>\n",
       "      <td>[10.249.1.80]</td>\n",
       "      <td>0-578-0-59450</td>\n",
       "      <td>NaN</td>\n",
       "      <td>NaN</td>\n",
       "      <td>NaN</td>\n",
       "    </tr>\n",
       "    <tr>\n",
       "      <th>3</th>\n",
       "      <td>SensorSystem</td>\n",
       "      <td>SN12590</td>\n",
       "      <td>E6 MJØSBRUA</td>\n",
       "      <td>E6 Mjøsbrua</td>\n",
       "      <td>Norge</td>\n",
       "      <td>NO</td>\n",
       "      <td>{'@type': 'Point', 'coordinates': [10.6725, 60...</td>\n",
       "      <td>128.0</td>\n",
       "      <td>2011-01-01T00:00:00.000Z</td>\n",
       "      <td>INNLANDET</td>\n",
       "      <td>34.0</td>\n",
       "      <td>RINGSAKER</td>\n",
       "      <td>3411.0</td>\n",
       "      <td>[STATENS VEGVESEN]</td>\n",
       "      <td>[149, 429003]</td>\n",
       "      <td>0-578-0-12590</td>\n",
       "      <td>NaN</td>\n",
       "      <td>NaN</td>\n",
       "      <td>NaN</td>\n",
       "    </tr>\n",
       "    <tr>\n",
       "      <th>4</th>\n",
       "      <td>SensorSystem</td>\n",
       "      <td>SN26640</td>\n",
       "      <td>E134 DARBU</td>\n",
       "      <td>E134 Darbu</td>\n",
       "      <td>Norge</td>\n",
       "      <td>NO</td>\n",
       "      <td>{'@type': 'Point', 'coordinates': [9.7773, 59....</td>\n",
       "      <td>155.0</td>\n",
       "      <td>2016-04-19T00:00:00.000Z</td>\n",
       "      <td>VIKEN</td>\n",
       "      <td>30.0</td>\n",
       "      <td>ØVRE EIKER</td>\n",
       "      <td>3048.0</td>\n",
       "      <td>[STATENS VEGVESEN]</td>\n",
       "      <td>[1645, 629024]</td>\n",
       "      <td>0-578-0-26640</td>\n",
       "      <td>NaN</td>\n",
       "      <td>NaN</td>\n",
       "      <td>NaN</td>\n",
       "    </tr>\n",
       "  </tbody>\n",
       "</table>\n",
       "</div>"
      ],
      "text/plain": [
       "          @type       id               name    shortName country countryCode  \\\n",
       "0  SensorSystem  SN47230  ÅKRA UNGDOMSSKOLE        Åkra    Norge          NO   \n",
       "1  SensorSystem  SN23670         E16 RYFOSS   E16 Ryfoss   Norge          NO   \n",
       "2  SensorSystem  SN59450         STADLANDET   Stadlandet   Norge          NO   \n",
       "3  SensorSystem  SN12590        E6 MJØSBRUA  E6 Mjøsbrua   Norge          NO   \n",
       "4  SensorSystem  SN26640         E134 DARBU   E134 Darbu   Norge          NO   \n",
       "\n",
       "                                            geometry   masl  \\\n",
       "0  {'@type': 'Point', 'coordinates': [5.1963, 59....   18.0   \n",
       "1  {'@type': 'Point', 'coordinates': [8.8175, 61....  406.0   \n",
       "2  {'@type': 'Point', 'coordinates': [5.2115, 62....   75.0   \n",
       "3  {'@type': 'Point', 'coordinates': [10.6725, 60...  128.0   \n",
       "4  {'@type': 'Point', 'coordinates': [9.7773, 59....  155.0   \n",
       "\n",
       "                  validFrom     county  countyId municipality  municipalityId  \\\n",
       "0  2013-10-29T00:00:00.000Z   ROGALAND      11.0       KARMØY          1149.0   \n",
       "1  2018-01-23T00:00:00.000Z  INNLANDET      34.0         VANG          3454.0   \n",
       "2  1923-01-01T00:00:00.000Z   VESTLAND      46.0         STAD          4649.0   \n",
       "3  2011-01-01T00:00:00.000Z  INNLANDET      34.0    RINGSAKER          3411.0   \n",
       "4  2016-04-19T00:00:00.000Z      VIKEN      30.0   ØVRE EIKER          3048.0   \n",
       "\n",
       "       stationHolders      externalIds        wigosId  wmoId icaoCodes  \\\n",
       "0    [KARMØY KOMMUNE]      [506131077]  0-578-0-47230    NaN       NaN   \n",
       "1  [STATENS VEGVESEN]  [1755, 3000021]  0-578-0-23670    NaN       NaN   \n",
       "2            [MET.NO]    [10.249.1.80]  0-578-0-59450    NaN       NaN   \n",
       "3  [STATENS VEGVESEN]    [149, 429003]  0-578-0-12590    NaN       NaN   \n",
       "4  [STATENS VEGVESEN]   [1645, 629024]  0-578-0-26640    NaN       NaN   \n",
       "\n",
       "  shipCodes  \n",
       "0       NaN  \n",
       "1       NaN  \n",
       "2       NaN  \n",
       "3       NaN  \n",
       "4       NaN  "
      ]
     },
     "execution_count": 28,
     "metadata": {},
     "output_type": "execute_result"
    }
   ],
   "source": [
    "# Convert to data frame\n",
    "weather_station_df = pd.DataFrame(weather_station_data_api)\n",
    "weather_station_df.head()"
   ]
  },
  {
   "cell_type": "code",
   "execution_count": 29,
   "metadata": {},
   "outputs": [
    {
     "data": {
      "text/plain": [
       "@type             1319\n",
       "id                1319\n",
       "name              1319\n",
       "shortName         1318\n",
       "country           1319\n",
       "countryCode       1319\n",
       "geometry          1305\n",
       "masl              1292\n",
       "validFrom         1319\n",
       "county            1311\n",
       "countyId          1318\n",
       "municipality      1318\n",
       "municipalityId    1318\n",
       "stationHolders    1319\n",
       "externalIds        982\n",
       "wigosId           1318\n",
       "wmoId              273\n",
       "icaoCodes           72\n",
       "shipCodes           49\n",
       "dtype: int64"
      ]
     },
     "execution_count": 29,
     "metadata": {},
     "output_type": "execute_result"
    }
   ],
   "source": [
    "weather_station_df.count()"
   ]
  },
  {
   "cell_type": "markdown",
   "metadata": {},
   "source": [
    "#### Findings\n",
    "- The Geometry column is a nested json string\n",
    "- The date fields are in special formats"
   ]
  },
  {
   "cell_type": "markdown",
   "metadata": {},
   "source": [
    "#### Cleaning Steps\n",
    "Document steps necessary to clean the data"
   ]
  },
  {
   "cell_type": "code",
   "execution_count": 30,
   "metadata": {},
   "outputs": [
    {
     "name": "stdout",
     "output_type": "stream",
     "text": [
      "root\n",
      " |-- FID: integer (nullable = true)\n",
      " |-- ProxyId: string (nullable = true)\n",
      " |-- NodeDatabaseID: integer (nullable = true)\n",
      " |-- InstitutionCode: string (nullable = true)\n",
      " |-- CollectionCode: string (nullable = true)\n",
      " |-- CatalogNumber: string (nullable = true)\n",
      " |-- VitNavn: string (nullable = true)\n",
      " |-- BasisOfRecord: string (nullable = true)\n",
      " |-- Kingdom: string (nullable = true)\n",
      " |-- Phylum: string (nullable = true)\n",
      " |-- Class: string (nullable = true)\n",
      " |-- Order: string (nullable = true)\n",
      " |-- Family: string (nullable = true)\n",
      " |-- Genus: string (nullable = true)\n",
      " |-- Species: string (nullable = true)\n",
      " |-- Subspecies: string (nullable = true)\n",
      " |-- Author: string (nullable = true)\n",
      " |-- IdentifiedBy: string (nullable = true)\n",
      " |-- YearIdentified: integer (nullable = true)\n",
      " |-- MonthIdentified: integer (nullable = true)\n",
      " |-- DayIdentified: integer (nullable = true)\n",
      " |-- TypeStatus: string (nullable = true)\n",
      " |-- CollectorNumber: string (nullable = true)\n",
      " |-- FieldNumber: string (nullable = true)\n",
      " |-- Collector: string (nullable = true)\n",
      " |-- YearCollected: integer (nullable = true)\n",
      " |-- MonthCollected: integer (nullable = true)\n",
      " |-- DayCollected: integer (nullable = true)\n",
      " |-- ContinentOcean: string (nullable = true)\n",
      " |-- Country: string (nullable = true)\n",
      " |-- StateProvince: string (nullable = true)\n",
      " |-- CountyOrg: string (nullable = true)\n",
      " |-- Locality: string (nullable = true)\n",
      " |-- CountyID: string (nullable = true)\n",
      " |-- MunicipalityID: string (nullable = true)\n",
      " |-- County: string (nullable = true)\n",
      " |-- MuniName: string (nullable = true)\n",
      " |-- Longitude: double (nullable = true)\n",
      " |-- Latitude: double (nullable = true)\n",
      " |-- CoordinatePrecision: integer (nullable = true)\n",
      " |-- BoundingBox: string (nullable = true)\n",
      " |-- MinElevation: integer (nullable = true)\n",
      " |-- MaxElevation: integer (nullable = true)\n",
      " |-- MinDepth: string (nullable = true)\n",
      " |-- MaxDepth: string (nullable = true)\n",
      " |-- Sex: string (nullable = true)\n",
      " |-- PreparationType: string (nullable = true)\n",
      " |-- IndividualCount: string (nullable = true)\n",
      " |-- PreviousCatalogNumber: string (nullable = true)\n",
      " |-- RelationshipType: string (nullable = true)\n",
      " |-- RelatedCatalogItem: string (nullable = true)\n",
      " |-- Notes: string (nullable = true)\n",
      " |-- CollectingMethod: string (nullable = true)\n",
      " |-- IdentificationPrecision: integer (nullable = true)\n",
      " |-- NorskNavn: string (nullable = true)\n",
      " |-- Okologi: string (nullable = true)\n",
      " |-- Habitat: string (nullable = true)\n",
      " |-- Substrat: string (nullable = true)\n",
      " |-- UTMost: integer (nullable = true)\n",
      " |-- UTMnord: integer (nullable = true)\n",
      " |-- UTMsone: string (nullable = true)\n",
      " |-- MGRSfra: string (nullable = true)\n",
      " |-- MGRStil: string (nullable = true)\n",
      " |-- UTM33ost: integer (nullable = true)\n",
      " |-- UTM33nord: integer (nullable = true)\n",
      " |-- KoordKilde: string (nullable = true)\n",
      " |-- ElevationKilde: string (nullable = true)\n",
      " |-- Status: string (nullable = true)\n",
      " |-- RelativeAboundance: string (nullable = true)\n",
      " |-- Antropokor: integer (nullable = true)\n",
      " |-- URL: string (nullable = true)\n",
      " |-- ArtsGruppe: integer (nullable = true)\n",
      " |-- IName: string (nullable = true)\n",
      " |-- CName: string (nullable = true)\n",
      " |-- CategoryId: integer (nullable = true)\n",
      "\n"
     ]
    }
   ],
   "source": [
    "# Fix the Redlisted species Schema\n",
    "redlistSchema = R([\n",
    "        Fld(\"FID\", Int()), \n",
    "        Fld(\"ProxyId\", Str()),\n",
    "        Fld(\"NodeDatabaseID\", Int()), \n",
    "        Fld(\"InstitutionCode\", Str()), \n",
    "        Fld(\"CollectionCode\", Str()), \n",
    "        Fld(\"CatalogNumber\", Str()), \n",
    "        Fld(\"VitNavn\", Str()),\n",
    "        Fld(\"BasisOfRecord\", Str()), \n",
    "        Fld(\"Kingdom\", Str()), \n",
    "        Fld(\"Phylum\", Str()), \n",
    "        Fld(\"Class\", Str()), \n",
    "        Fld(\"Order\", Str()), \n",
    "        Fld(\"Family\", Str()), \n",
    "        Fld(\"Genus\", Str()), \n",
    "        Fld(\"Species\", Str()), \n",
    "        Fld(\"Subspecies\", Str()), \n",
    "        Fld(\"Author\", Str()), \n",
    "        Fld(\"IdentifiedBy\", Str()), \n",
    "        Fld(\"YearIdentified\", Int()), \n",
    "        Fld(\"MonthIdentified\", Int()), \n",
    "        Fld(\"DayIdentified\", Int()), \n",
    "        Fld(\"TypeStatus\", Str()), \n",
    "        Fld(\"CollectorNumber\", Str()), \n",
    "        Fld(\"FieldNumber\", Str()), \n",
    "        Fld(\"Collector\", Str()), \n",
    "        Fld(\"YearCollected\", Int()),\n",
    "        Fld(\"MonthCollected\", Int()), \n",
    "        Fld(\"DayCollected\", Int()), \n",
    "        Fld(\"ContinentOcean\", Str()), \n",
    "        Fld(\"Country\", Str()), \n",
    "        Fld(\"StateProvince\", Str()), \n",
    "        Fld(\"CountyOrg\", Str()), \n",
    "        Fld(\"Locality\", Str()), \n",
    "        Fld(\"CountyID\", Str()), \n",
    "        Fld(\"MunicipalityID\", Str()), \n",
    "        Fld(\"County\", Str()), \n",
    "        Fld(\"MuniName\", Str()), \n",
    "        Fld(\"Longitude\", Dbl()), \n",
    "        Fld(\"Latitude\", Dbl()), \n",
    "        Fld(\"CoordinatePrecision\", Int()), \n",
    "        Fld(\"BoundingBox\", Str()), \n",
    "        Fld(\"MinElevation\", Int()), \n",
    "        Fld(\"MaxElevation\", Int()), \n",
    "        Fld(\"MinDepth\", Str()), \n",
    "        Fld(\"MaxDepth\", Str()), \n",
    "        Fld(\"Sex\", Str()), \n",
    "        Fld(\"PreparationType\", Str()), \n",
    "        Fld(\"IndividualCount\", Str()), \n",
    "        Fld(\"PreviousCatalogNumber\", Str()), \n",
    "        Fld(\"RelationshipType\", Str()), \n",
    "        Fld(\"RelatedCatalogItem\", Str()), \n",
    "        Fld(\"Notes\", Str()), \n",
    "        Fld(\"CollectingMethod\", Str()), \n",
    "        Fld(\"IdentificationPrecision\", Int()), \n",
    "        Fld(\"NorskNavn\", Str()), \n",
    "        Fld(\"Okologi\", Str()), \n",
    "        Fld(\"Habitat\", Str()),\n",
    "        Fld(\"Substrat\", Str()), \n",
    "        Fld(\"UTMost\", Int()), \n",
    "        Fld(\"UTMnord\", Int()), \n",
    "        Fld(\"UTMsone\", Str()), \n",
    "        Fld(\"MGRSfra\", Str()), \n",
    "        Fld(\"MGRStil\", Str()), \n",
    "        Fld(\"UTM33ost\", Int()), \n",
    "        Fld(\"UTM33nord\", Int()), \n",
    "        Fld(\"KoordKilde\", Str()), \n",
    "        Fld(\"ElevationKilde\", Str()), \n",
    "        Fld(\"Status\", Str()), \n",
    "        Fld(\"RelativeAboundance\", Str()), \n",
    "        Fld(\"Antropokor\", Int()), \n",
    "        Fld(\"URL\", Str()), \n",
    "        Fld(\"ArtsGruppe\", Int()), \n",
    "        Fld(\"IName\", Str()), \n",
    "        Fld(\"CName\", Str()), \n",
    "        Fld(\"CategoryId\", Int())\n",
    "])\n",
    "\n",
    "# Read file back into memory with fixed schema\n",
    "RedlistSparkDfWithFixedSchema = spark.read.csv(out_path, schema=redlistSchema, header=True)\n",
    "\n",
    "RedlistSparkDfWithFixedSchema.printSchema()"
   ]
  },
  {
   "cell_type": "code",
   "execution_count": 31,
   "metadata": {},
   "outputs": [],
   "source": [
    "# Flatten out the nested column \"geometry\" in the weather metadata\n",
    "df = pd.json_normalize(weather_station_data_api)\n",
    "\n",
    "# Convert to Data Frame\n",
    "df = pd.DataFrame(df)\n",
    "\n",
    "# Keep these columns\n",
    "columns = ['id','name','shortName','geometry.coordinates', 'validFrom', 'county','municipality']\n",
    "df2 = df[columns].copy()\n",
    "\n",
    "# Convert the validFrom field value to datetime format\n",
    "df2['validFrom'] = pd.to_datetime(df2['validFrom'])"
   ]
  },
  {
   "cell_type": "code",
   "execution_count": 32,
   "metadata": {},
   "outputs": [],
   "source": [
    "# Set filename\n",
    "file_name_weather = \"weather_station_metadata.csv\""
   ]
  },
  {
   "cell_type": "code",
   "execution_count": 33,
   "metadata": {},
   "outputs": [],
   "source": [
    "# Write the result to csv\n",
    "df2.to_csv(os.path.abspath(file_name_weather), encoding='UTF-8')"
   ]
  },
  {
   "cell_type": "code",
   "execution_count": 34,
   "metadata": {},
   "outputs": [],
   "source": [
    "# Read weather station meta data into memory using PySpark\n",
    "weather_metadata_spark_df = spark.read.csv(os.path.abspath(file_name_weather), header=True, encoding = 'UTF-8')"
   ]
  },
  {
   "cell_type": "code",
   "execution_count": 36,
   "metadata": {},
   "outputs": [],
   "source": [
    "# Rename nested column name \n",
    "weatherStatioMetaDataDf = weather_metadata_spark_df.withColumnRenamed(\"geometry.coordinates\",\"coordinates\")"
   ]
  },
  {
   "cell_type": "code",
   "execution_count": 37,
   "metadata": {},
   "outputs": [
    {
     "name": "stdout",
     "output_type": "stream",
     "text": [
      "root\n",
      " |-- _c0: string (nullable = true)\n",
      " |-- id: string (nullable = true)\n",
      " |-- name: string (nullable = true)\n",
      " |-- shortName: string (nullable = true)\n",
      " |-- coordinates: string (nullable = true)\n",
      " |-- validFrom: string (nullable = true)\n",
      " |-- county: string (nullable = true)\n",
      " |-- municipality: string (nullable = true)\n",
      "\n"
     ]
    }
   ],
   "source": [
    "weatherStatioMetaDataDf.printSchema()"
   ]
  },
  {
   "cell_type": "code",
   "execution_count": 38,
   "metadata": {},
   "outputs": [
    {
     "name": "stdout",
     "output_type": "stream",
     "text": [
      "+---+-------+-----------------+-----------+-----------------+--------------------+---------+------------+\n",
      "|_c0|     id|             name|  shortName|      coordinates|           validFrom|   county|municipality|\n",
      "+---+-------+-----------------+-----------+-----------------+--------------------+---------+------------+\n",
      "|  0|SN47230|ÅKRA UNGDOMSSKOLE|      Åkra |[5.1963, 59.2555]|2013-10-29 00:00:...| ROGALAND|      KARMØY|\n",
      "|  1|SN23670|       E16 RYFOSS| E16 Ryfoss|[8.8175, 61.1375]|2018-01-23 00:00:...|INNLANDET|        VANG|\n",
      "|  2|SN59450|       STADLANDET| Stadlandet|[5.2115, 62.1467]|1923-01-01 00:00:...| VESTLAND|        STAD|\n",
      "|  3|SN12590|      E6 MJØSBRUA|E6 Mjøsbrua|[10.6725, 60.928]|2011-01-01 00:00:...|INNLANDET|   RINGSAKER|\n",
      "|  4|SN26640|       E134 DARBU| E134 Darbu|[9.7773, 59.7025]|2016-04-19 00:00:...|    VIKEN|  ØVRE EIKER|\n",
      "+---+-------+-----------------+-----------+-----------------+--------------------+---------+------------+\n",
      "only showing top 5 rows\n",
      "\n"
     ]
    }
   ],
   "source": [
    "weatherStatioMetaDataDf.show(5)"
   ]
  },
  {
   "cell_type": "code",
   "execution_count": 39,
   "metadata": {},
   "outputs": [
    {
     "data": {
      "text/plain": [
       "1319"
      ]
     },
     "execution_count": 39,
     "metadata": {},
     "output_type": "execute_result"
    }
   ],
   "source": [
    "weatherStatioMetaDataDf.count()"
   ]
  },
  {
   "cell_type": "markdown",
   "metadata": {},
   "source": [
    "### Step 3: Define the Data Model\n",
    "#### 3.1 Conceptual Data Model\n",
    "The data model is a dimensional model consisting of one fact table having one row for each observation. The 6 dimension tables holds detailed information about every observation. I chose a dimensional data model because having facts and dimension helps users conceptually understand the data model and write simple queries and do fast aggregations.\n",
    "\n",
    "- <strong>`Redlist.csv`</strong> file populates:\n",
    "    - `fact_observation`\n",
    "        - information about every redlisted species observation that has happened\n",
    "    - `dim_status`\n",
    "        - detailed information about the different redlist statuses <br>\n",
    "    - `dim_location`\n",
    "        - detailed information about all unique observation locations <br>\n",
    "    - `dim_species`\n",
    "        - detailed information about every species observed <br>\n",
    "    - `dim_collected_date`\n",
    "        - what date the observation were collected <br>\n",
    "    - `dim_identified_date`\n",
    "        - what date the observation were identified <br>\n",
    "    \n",
    "- <strong>`weather_station_metadata.csv`</strong> populates: <br>\n",
    "    - `dim_weather_station`\n",
    "        - nearby weather stations to the observation point\n",
    "\n",
    "#### Star schema\n",
    "<img src=\"StarSchema.png\" alt=\"starschema\" width=\"1000\" height=\"700\">\n",
    "\n",
    "#### 3.2 Mapping Out Data Pipelines\n",
    "1. Register all source data as temporary SQL views in PySpark\n",
    "2. Use Spark SQL to extract data, cast to correct data types and create unique ID's\n",
    "3. Use PySpark to write the result as parquet hosted on S3"
   ]
  },
  {
   "cell_type": "markdown",
   "metadata": {},
   "source": [
    "### Step 4: Run Pipelines to Model the Data \n",
    "#### 4.1 Create the data model\n",
    "Build the data pipelines to create the data model."
   ]
  },
  {
   "cell_type": "code",
   "execution_count": 55,
   "metadata": {},
   "outputs": [],
   "source": [
    "# output_data = \"C:/Users/aleks/dwh/redlistedSpecies/\"\n",
    "output_data = \"s3a://aletje/dwh/redlistedSpecies\"\n",
    "\n",
    "# Register Weather Stations DataFrame as a SQL temporary view\n",
    "weatherStatioMetaDataDf.createOrReplaceTempView(\"weather_stations\")\n",
    "\n",
    "# Register Redlisted Species DataFrame as a SQL temporary view\n",
    "RedlistSparkDfWithFixedSchema.createOrReplaceTempView(\"redlist\")"
   ]
  },
  {
   "cell_type": "code",
   "execution_count": 56,
   "metadata": {},
   "outputs": [],
   "source": [
    "# extract data and perform necessary formating on Weather Stations table\n",
    "weatherStatioMetaDataCleanedDf = spark.sql(\"\"\"\n",
    "\n",
    "-- Clean up and cast to correct data types\n",
    "SELECT ID,\n",
    "       STATIONS.NAME,\n",
    "       STATIONS.SHORTNAME,\n",
    "       CAST(REPLACE(STATIONS.LAT, '[', '') AS DOUBLE) AS LAT,\n",
    "       CAST(REPLACE(STATIONS.LONG, ']', '') AS DOUBLE) AS LONG,\n",
    "       TO_DATE(DATE_TRUNC('DAY', VALID_FROM), 'DD.MM.YYYY') AS VALID_FROM,\n",
    "       COUNTY,\n",
    "       MUNICIPALITY\n",
    "FROM (\n",
    "        --Fetch relevant columns, split coordinates into lat & long\n",
    "        SELECT ID,\n",
    "               NAME,\n",
    "               SHORTNAME,\n",
    "               SPLIT(COORDINATES, ',')[0] AS LAT,\n",
    "               SPLIT(COORDINATES, ',')[1] AS LONG,\n",
    "               VALIDFROM AS VALID_FROM,\n",
    "               COUNTY,\n",
    "               MUNICIPALITY\n",
    "        FROM WEATHER_STATIONS ) STATIONS\n",
    "\n",
    "\"\"\")"
   ]
  },
  {
   "cell_type": "code",
   "execution_count": 57,
   "metadata": {},
   "outputs": [],
   "source": [
    "# Write cleaned data back to parquet\n",
    "weatherStatioMetaDataCleanedDf.write.mode(\"overwrite\").parquet(output_data + \"dim_weather_station.parquet\")"
   ]
  },
  {
   "cell_type": "code",
   "execution_count": 58,
   "metadata": {},
   "outputs": [
    {
     "name": "stdout",
     "output_type": "stream",
     "text": [
      "root\n",
      " |-- ID: string (nullable = true)\n",
      " |-- NAME: string (nullable = true)\n",
      " |-- SHORTNAME: string (nullable = true)\n",
      " |-- LAT: double (nullable = true)\n",
      " |-- LONG: double (nullable = true)\n",
      " |-- VALID_FROM: date (nullable = true)\n",
      " |-- COUNTY: string (nullable = true)\n",
      " |-- MUNICIPALITY: string (nullable = true)\n",
      "\n"
     ]
    }
   ],
   "source": [
    "# Read cleaned data file back into memory\n",
    "weather_stations = spark.read.parquet(output_data + \"dim_weather_station.parquet\")\n",
    "\n",
    "weather_stations.printSchema()"
   ]
  },
  {
   "cell_type": "code",
   "execution_count": 59,
   "metadata": {},
   "outputs": [
    {
     "name": "stdout",
     "output_type": "stream",
     "text": [
      "+-------+-----------------+-----------+-------+-------+----------+---------+------------+\n",
      "|     ID|             NAME|  SHORTNAME|    LAT|   LONG|VALID_FROM|   COUNTY|MUNICIPALITY|\n",
      "+-------+-----------------+-----------+-------+-------+----------+---------+------------+\n",
      "|SN47230|ÅKRA UNGDOMSSKOLE|      Åkra | 5.1963|59.2555|2013-10-29| ROGALAND|      KARMØY|\n",
      "|SN23670|       E16 RYFOSS| E16 Ryfoss| 8.8175|61.1375|2018-01-23|INNLANDET|        VANG|\n",
      "|SN59450|       STADLANDET| Stadlandet| 5.2115|62.1467|1923-01-01| VESTLAND|        STAD|\n",
      "|SN12590|      E6 MJØSBRUA|E6 Mjøsbrua|10.6725| 60.928|2011-01-01|INNLANDET|   RINGSAKER|\n",
      "|SN26640|       E134 DARBU| E134 Darbu| 9.7773|59.7025|2016-04-19|    VIKEN|  ØVRE EIKER|\n",
      "+-------+-----------------+-----------+-------+-------+----------+---------+------------+\n",
      "only showing top 5 rows\n",
      "\n"
     ]
    }
   ],
   "source": [
    "weather_stations.show(5)"
   ]
  },
  {
   "cell_type": "code",
   "execution_count": 60,
   "metadata": {},
   "outputs": [
    {
     "data": {
      "text/plain": [
       "1319"
      ]
     },
     "execution_count": 60,
     "metadata": {},
     "output_type": "execute_result"
    }
   ],
   "source": [
    "weather_stations.count()"
   ]
  },
  {
   "cell_type": "code",
   "execution_count": 233,
   "metadata": {},
   "outputs": [],
   "source": [
    "# extract columns to create species dimension table\n",
    "dim_species = spark.sql(\"\"\"\n",
    "SELECT ROW_NUMBER() OVER(ORDER BY KINGDOM, PHYLUM, CLASS, ORDER, FAMILY, GENUS, SPECIES ASC) AS SPECIES_KEY,\n",
    "       REDLISTED_SPECIES.*\n",
    "FROM (\n",
    "-- Fetch all unique redlisted species in Norway\n",
    "    SELECT DISTINCT\n",
    "            KINGDOM,\n",
    "            PHYLUM,\n",
    "            CLASS,\n",
    "            ORDER,\n",
    "            FAMILY,\n",
    "            GENUS,\n",
    "            SPECIES,\n",
    "            SUBSPECIES,\n",
    "            AUTHOR,\n",
    "            NORSKNAVN AS NORWEGIAN_NAME\n",
    "    FROM REDLIST ) REDLISTED_SPECIES\n",
    "\"\"\")"
   ]
  },
  {
   "cell_type": "code",
   "execution_count": 234,
   "metadata": {},
   "outputs": [
    {
     "name": "stdout",
     "output_type": "stream",
     "text": [
      "root\n",
      " |-- SPECIES_KEY: integer (nullable = true)\n",
      " |-- KINGDOM: string (nullable = true)\n",
      " |-- PHYLUM: string (nullable = true)\n",
      " |-- CLASS: string (nullable = true)\n",
      " |-- ORDER: string (nullable = true)\n",
      " |-- FAMILY: string (nullable = true)\n",
      " |-- GENUS: string (nullable = true)\n",
      " |-- SPECIES: string (nullable = true)\n",
      " |-- SUBSPECIES: string (nullable = true)\n",
      " |-- AUTHOR: string (nullable = true)\n",
      " |-- NORWEGIAN_NAME: string (nullable = true)\n",
      "\n"
     ]
    }
   ],
   "source": [
    "dim_species.printSchema()"
   ]
  },
  {
   "cell_type": "code",
   "execution_count": 235,
   "metadata": {},
   "outputs": [
    {
     "name": "stdout",
     "output_type": "stream",
     "text": [
      "+-----------+--------+--------+----------+----------------+---------------+------------+--------------------+----------+------------------+-----------------+\n",
      "|SPECIES_KEY| KINGDOM|  PHYLUM|     CLASS|           ORDER|         FAMILY|       GENUS|             SPECIES|SUBSPECIES|            AUTHOR|   NORWEGIAN_NAME|\n",
      "+-----------+--------+--------+----------+----------------+---------------+------------+--------------------+----------+------------------+-----------------+\n",
      "|          1|Animalia|Annelida|Clitellata|Arhynchobdellida|  Erpobdellidae|  Erpobdella| Erpobdella testacea|      null|   (Savigny, 1820)|  liten hundeigle|\n",
      "|          2|Animalia|Annelida|Clitellata|Arhynchobdellida|    Hirudinidae|      Hirudo|  Hirudo medicinalis|      null|    Linnaeus, 1758|         blodigle|\n",
      "|          3|Animalia|Annelida|Clitellata| Rhynchobdellida|Glossiphoniidae|Glossiphonia|Glossiphonia conc...|      null|    (Apáthy, 1888)|gråbrun bruskigle|\n",
      "|          4|Animalia|Annelida|Clitellata| Rhynchobdellida|Glossiphoniidae|Glossiphonia|Glossiphonia palu...|      null|    (Carena, 1824)|          damigle|\n",
      "|          5|Animalia|Annelida|Clitellata| Rhynchobdellida|Glossiphoniidae|Glossiphonia|Glossiphonia verr...|      null|(Fr. Müller, 1844)|        vorteigle|\n",
      "+-----------+--------+--------+----------+----------------+---------------+------------+--------------------+----------+------------------+-----------------+\n",
      "only showing top 5 rows\n",
      "\n"
     ]
    }
   ],
   "source": [
    "dim_species.show(5)"
   ]
  },
  {
   "cell_type": "code",
   "execution_count": 236,
   "metadata": {},
   "outputs": [
    {
     "data": {
      "text/plain": [
       "4249"
      ]
     },
     "execution_count": 236,
     "metadata": {},
     "output_type": "execute_result"
    }
   ],
   "source": [
    "dim_species.count()"
   ]
  },
  {
   "cell_type": "code",
   "execution_count": 237,
   "metadata": {},
   "outputs": [],
   "source": [
    "# write species table back to S3\n",
    "dim_species.write.mode(\"overwrite\").parquet(output_data + \"dim_species.parquet\")"
   ]
  },
  {
   "cell_type": "code",
   "execution_count": 134,
   "metadata": {},
   "outputs": [],
   "source": [
    "# extract columns to create redlist status dimension table\n",
    "dim_status = spark.sql(\"\"\"\n",
    "SELECT ROW_NUMBER() OVER(ORDER BY STATUS.STATUS ASC) AS STATUS_KEY,\n",
    "       STATUS.*\n",
    "FROM (\n",
    "        -- Fetch all unique redlist status' (https://en.wikipedia.org/wiki/IUCN_Red_List)\n",
    "        SELECT DISTINCT\n",
    "                R.STATUS,\n",
    "                CASE\n",
    "                -- Versjon 3.1 IUCN (2001)\n",
    "                WHEN UPPER(R.STATUS) = 'EX' THEN 'Extinct'\n",
    "                WHEN UPPER(R.STATUS) = 'EW' THEN 'Extinct in the wild'\n",
    "                WHEN UPPER(R.STATUS) = 'CR' THEN 'Critically Endangered'\n",
    "                WHEN UPPER(R.STATUS) = 'EN' THEN 'Endangered'\n",
    "                WHEN UPPER(R.STATUS) = 'VU' THEN 'Vulnerable'\n",
    "                WHEN UPPER(R.STATUS) = 'NT' THEN 'Near Threatened'\n",
    "                WHEN UPPER(R.STATUS) = 'LC' THEN 'Least concern'\n",
    "                WHEN UPPER(R.STATUS) = 'DD' THEN 'Data deficient'\n",
    "                WHEN UPPER(R.STATUS) = 'NE' THEN 'Not evaluated'\n",
    "                -- Versjon 2.3 IUCN (1994)\n",
    "                WHEN UPPER(R.STATUS) = 'LR' THEN 'Lower risk'\n",
    "                WHEN UPPER(R.STATUS) = 'LR/CD' THEN 'Lower risk/Conservation Dependent'\n",
    "                WHEN UPPER(R.STATUS) = 'LR/NT' THEN 'Lower risk/Near Threatened'\n",
    "                WHEN UPPER(R.STATUS) = 'LR/LC' THEN 'Lower risk/Least Concern'\n",
    "                ELSE 'n/a'\n",
    "                END DESCRIPTION\n",
    "        FROM REDLIST R) STATUS\n",
    "\"\"\")"
   ]
  },
  {
   "cell_type": "code",
   "execution_count": 135,
   "metadata": {},
   "outputs": [
    {
     "name": "stdout",
     "output_type": "stream",
     "text": [
      "root\n",
      " |-- STATUS_KEY: integer (nullable = true)\n",
      " |-- STATUS: string (nullable = true)\n",
      " |-- DESCRIPTION: string (nullable = false)\n",
      "\n"
     ]
    }
   ],
   "source": [
    "dim_status.printSchema()"
   ]
  },
  {
   "cell_type": "code",
   "execution_count": 136,
   "metadata": {},
   "outputs": [
    {
     "name": "stdout",
     "output_type": "stream",
     "text": [
      "+----------+------+--------------------+\n",
      "|STATUS_KEY|STATUS|         DESCRIPTION|\n",
      "+----------+------+--------------------+\n",
      "|         1|    CR|Critically Endang...|\n",
      "|         2|    DD|      Data deficient|\n",
      "|         3|    EN|          Endangered|\n",
      "|         4|    NT|     Near Threatened|\n",
      "|         5|    RE|                 n/a|\n",
      "|         6|    VU|          Vulnerable|\n",
      "+----------+------+--------------------+\n",
      "\n"
     ]
    }
   ],
   "source": [
    "dim_status.show()"
   ]
  },
  {
   "cell_type": "code",
   "execution_count": 137,
   "metadata": {},
   "outputs": [],
   "source": [
    "dim_status.write.mode(\"overwrite\").parquet(output_data + \"dim_status.parquet\")"
   ]
  },
  {
   "cell_type": "code",
   "execution_count": 138,
   "metadata": {},
   "outputs": [],
   "source": [
    "# extract columns to create species location dimension table\n",
    "# join weather_stations to fetch the nearby weather stations\n",
    "\n",
    "dim_location = spark.sql(\"\"\"\n",
    "\n",
    "SELECT ROW_NUMBER() OVER(ORDER BY LOCALITY, LATITUDE, LONGITUDE ASC) AS LOCATION_KEY,\n",
    "       REDLISTED_SPECIE_LOCATION.*\n",
    "FROM (\n",
    "    -- Fetch all unique locations of observed redlisted species in Norway\n",
    "        SELECT DISTINCT\n",
    "                R.LOCALITY,\n",
    "                CAST(R.LATITUDE AS DOUBLE) AS LATITUDE,\n",
    "                CAST(R.LONGITUDE AS DOUBLE) AS LONGITUDE,\n",
    "                UPPER(R.COUNTRY) AS COUNTRY,\n",
    "                UPPER(R.COUNTY) AS COUNTY,\n",
    "                UPPER(R.MUNINAME) AS MUNINAME,\n",
    "                R.COORDINATEPRECISION,\n",
    "                R.CONTINENTOCEAN,\n",
    "                R.STATEPROVINCE,\n",
    "                R.COUNTYORG\n",
    "        FROM REDLIST R\n",
    "    ) REDLISTED_SPECIE_LOCATION\n",
    "\n",
    "\"\"\")"
   ]
  },
  {
   "cell_type": "code",
   "execution_count": 139,
   "metadata": {},
   "outputs": [
    {
     "name": "stdout",
     "output_type": "stream",
     "text": [
      "root\n",
      " |-- LOCATION_KEY: integer (nullable = true)\n",
      " |-- LOCALITY: string (nullable = true)\n",
      " |-- LATITUDE: double (nullable = true)\n",
      " |-- LONGITUDE: double (nullable = true)\n",
      " |-- COUNTRY: string (nullable = true)\n",
      " |-- COUNTY: string (nullable = true)\n",
      " |-- MUNINAME: string (nullable = true)\n",
      " |-- COORDINATEPRECISION: integer (nullable = true)\n",
      " |-- CONTINENTOCEAN: string (nullable = true)\n",
      " |-- STATEPROVINCE: string (nullable = true)\n",
      " |-- COUNTYORG: string (nullable = true)\n",
      "\n"
     ]
    }
   ],
   "source": [
    "dim_location.printSchema()"
   ]
  },
  {
   "cell_type": "code",
   "execution_count": 140,
   "metadata": {},
   "outputs": [
    {
     "name": "stdout",
     "output_type": "stream",
     "text": [
      "+------------+--------+---------+---------+-------+------------------+--------+-------------------+--------------+-------------+---------+\n",
      "|LOCATION_KEY|LOCALITY| LATITUDE|LONGITUDE|COUNTRY|            COUNTY|MUNINAME|COORDINATEPRECISION|CONTINENTOCEAN|STATEPROVINCE|COUNTYORG|\n",
      "+------------+--------+---------+---------+-------+------------------+--------+-------------------+--------------+-------------+---------+\n",
      "|           1|    null|56.246666|    3.455| NORWAY|NORSKEKYSTEN HAV S|    null|                 50|          null|         null|     null|\n",
      "|           2|    null|   56.285| 3.666667| NORWAY|NORSKEKYSTEN HAV S|    null|                 50|          null|         null|     null|\n",
      "|           3|    null|56.386665| 2.926667| NORWAY|NORSKEKYSTEN HAV S|    null|                 50|          null|         null|     null|\n",
      "|           4|    null|56.406666| 3.713333| NORWAY|NORSKEKYSTEN HAV S|    null|                 50|          null|         null|     null|\n",
      "|           5|    null|56.639999| 4.118333| NORWAY|NORSKEKYSTEN HAV S|    null|                 50|          null|         null|     null|\n",
      "+------------+--------+---------+---------+-------+------------------+--------+-------------------+--------------+-------------+---------+\n",
      "only showing top 5 rows\n",
      "\n"
     ]
    }
   ],
   "source": [
    "dim_location.show(5)"
   ]
  },
  {
   "cell_type": "code",
   "execution_count": 226,
   "metadata": {},
   "outputs": [
    {
     "data": {
      "text/plain": [
       "606603"
      ]
     },
     "execution_count": 226,
     "metadata": {},
     "output_type": "execute_result"
    }
   ],
   "source": [
    "dim_location.count()"
   ]
  },
  {
   "cell_type": "code",
   "execution_count": 142,
   "metadata": {},
   "outputs": [],
   "source": [
    "# write locations table back to S3, repartition by 8 / cores availiable on my machine\n",
    "dim_location.repartition(8).write.mode(\"overwrite\").parquet(output_data + \"dim_location.parquet\")"
   ]
  },
  {
   "cell_type": "code",
   "execution_count": 143,
   "metadata": {},
   "outputs": [],
   "source": [
    "# extract columns to create species date collected dimension table\n",
    "dim_collected_date = spark.sql(\"\"\"\n",
    "SELECT ROW_NUMBER() OVER(ORDER BY YEARCOLLECTED, MONTHCOLLECTED, DAYCOLLECTED ASC) AS DATE_COLLECTED_KEY,\n",
    "       DATE_COLLECTED.*\n",
    "FROM (\n",
    "-- Fetch all unique collection dates\n",
    "    SELECT DISTINCT\n",
    "            YEARCOLLECTED,\n",
    "            MONTHCOLLECTED,\n",
    "            DAYCOLLECTED\n",
    "    FROM REDLIST ) DATE_COLLECTED\n",
    "\"\"\")"
   ]
  },
  {
   "cell_type": "code",
   "execution_count": 144,
   "metadata": {},
   "outputs": [
    {
     "name": "stdout",
     "output_type": "stream",
     "text": [
      "root\n",
      " |-- DATE_COLLECTED_KEY: integer (nullable = true)\n",
      " |-- YEARCOLLECTED: integer (nullable = true)\n",
      " |-- MONTHCOLLECTED: integer (nullable = true)\n",
      " |-- DAYCOLLECTED: integer (nullable = true)\n",
      "\n"
     ]
    }
   ],
   "source": [
    "dim_collected_date.printSchema()"
   ]
  },
  {
   "cell_type": "code",
   "execution_count": 145,
   "metadata": {},
   "outputs": [
    {
     "name": "stdout",
     "output_type": "stream",
     "text": [
      "+------------------+-------------+--------------+------------+\n",
      "|DATE_COLLECTED_KEY|YEARCOLLECTED|MONTHCOLLECTED|DAYCOLLECTED|\n",
      "+------------------+-------------+--------------+------------+\n",
      "|                 1|         1700|             1|           1|\n",
      "|                 2|         1701|             1|           1|\n",
      "|                 3|         1707|             1|           1|\n",
      "|                 4|         1710|             1|           1|\n",
      "|                 5|         1715|             5|           1|\n",
      "+------------------+-------------+--------------+------------+\n",
      "only showing top 5 rows\n",
      "\n"
     ]
    }
   ],
   "source": [
    "dim_collected_date.show(5)"
   ]
  },
  {
   "cell_type": "code",
   "execution_count": 146,
   "metadata": {},
   "outputs": [
    {
     "data": {
      "text/plain": [
       "30392"
      ]
     },
     "execution_count": 146,
     "metadata": {},
     "output_type": "execute_result"
    }
   ],
   "source": [
    "dim_collected_date.count()"
   ]
  },
  {
   "cell_type": "code",
   "execution_count": 147,
   "metadata": {},
   "outputs": [],
   "source": [
    "# write collected dates table back to S3\n",
    "dim_collected_date.write.mode(\"overwrite\").parquet(output_data + \"dim_collected_date.parquet\")"
   ]
  },
  {
   "cell_type": "code",
   "execution_count": 148,
   "metadata": {},
   "outputs": [],
   "source": [
    "# extract columns to create species date identified dimension table\n",
    "dim_identified_date = spark.sql(\"\"\"\n",
    "SELECT ROW_NUMBER() OVER(ORDER BY YEARIDENTIFIED, MONTHIDENTIFIED, DAYIDENTIFIED ASC) AS DATE_IDENTIFIED_KEY,\n",
    "       DATE_IDENTIFIED.*\n",
    "FROM (\n",
    "-- Fetch all unique species date identified\n",
    "    SELECT DISTINCT\n",
    "            YEARIDENTIFIED,\n",
    "            MONTHIDENTIFIED,\n",
    "            DAYIDENTIFIED\n",
    "    FROM REDLIST ) DATE_IDENTIFIED\n",
    "\"\"\")"
   ]
  },
  {
   "cell_type": "code",
   "execution_count": 149,
   "metadata": {},
   "outputs": [
    {
     "name": "stdout",
     "output_type": "stream",
     "text": [
      "root\n",
      " |-- DATE_IDENTIFIED_KEY: integer (nullable = true)\n",
      " |-- YEARIDENTIFIED: integer (nullable = true)\n",
      " |-- MONTHIDENTIFIED: integer (nullable = true)\n",
      " |-- DAYIDENTIFIED: integer (nullable = true)\n",
      "\n"
     ]
    }
   ],
   "source": [
    "dim_identified_date.printSchema()"
   ]
  },
  {
   "cell_type": "code",
   "execution_count": 150,
   "metadata": {},
   "outputs": [
    {
     "name": "stdout",
     "output_type": "stream",
     "text": [
      "+-------------------+--------------+---------------+-------------+\n",
      "|DATE_IDENTIFIED_KEY|YEARIDENTIFIED|MONTHIDENTIFIED|DAYIDENTIFIED|\n",
      "+-------------------+--------------+---------------+-------------+\n",
      "|                  1|             0|              0|            0|\n",
      "|                  2|          1700|              1|            1|\n",
      "|                  3|          1701|              1|            1|\n",
      "|                  4|          1707|              1|            1|\n",
      "|                  5|          1710|              1|            1|\n",
      "+-------------------+--------------+---------------+-------------+\n",
      "only showing top 5 rows\n",
      "\n"
     ]
    }
   ],
   "source": [
    "dim_identified_date.show(5)"
   ]
  },
  {
   "cell_type": "code",
   "execution_count": 151,
   "metadata": {},
   "outputs": [
    {
     "data": {
      "text/plain": [
       "17420"
      ]
     },
     "execution_count": 151,
     "metadata": {},
     "output_type": "execute_result"
    }
   ],
   "source": [
    "dim_identified_date.count()"
   ]
  },
  {
   "cell_type": "code",
   "execution_count": 152,
   "metadata": {},
   "outputs": [],
   "source": [
    "# write identified dates table back to S3\n",
    "dim_identified_date.write.mode(\"overwrite\").parquet(output_data + \"dim_identified_date.parquet\")"
   ]
  },
  {
   "cell_type": "code",
   "execution_count": 24,
   "metadata": {},
   "outputs": [],
   "source": [
    "# Read in parquet files back into memory and Create temporary views\n",
    "spark.read.parquet(output_data + \"dim_species.parquet\").createOrReplaceTempView(\"species\")\n",
    "spark.read.parquet(output_data + \"dim_location.parquet\").createOrReplaceTempView(\"location\")\n",
    "spark.read.parquet(output_data + \"dim_collected_date.parquet\").createOrReplaceTempView(\"collected_date\")\n",
    "spark.read.parquet(output_data + \"dim_identified_date.parquet\").createOrReplaceTempView(\"identified_date\")\n",
    "spark.read.parquet(output_data + \"dim_status.parquet\").createOrReplaceTempView(\"status\")\n",
    "\n",
    "# extract columns to create species observation fact table\n",
    "# join temporary views and substitute relevant fields with their keys\n",
    "fact_observation = spark.sql(\"\"\"\n",
    "SELECT ROW_NUMBER() OVER(ORDER BY OBSERVATIONS.FID ASC) AS OBSERVATION_KEY,\n",
    "       OBSERVATIONS.SPECIES_KEY,\n",
    "       OBSERVATIONS.LOCATION_KEY,\n",
    "       OBSERVATIONS.STATUS_KEY,\n",
    "       OBSERVATIONS.DATE_COLLECTED_KEY,\n",
    "       OBSERVATIONS.DATE_IDENTIFIED_KEY,\n",
    "       OBSERVATIONS.IDENTIFIEDBY,\n",
    "       OBSERVATIONS.COLLECTOR,\n",
    "       OBSERVATIONS.INDIVIDUALCOUNT,\n",
    "       OBSERVATIONS.NOTES,\n",
    "       OBSERVATIONS.COLLECTINGMETHOD,\n",
    "       OBSERVATIONS.OKOLOGI,\n",
    "       OBSERVATIONS.HABITAT,\n",
    "       OBSERVATIONS.INAME,\n",
    "       OBSERVATIONS.CNAME\n",
    "FROM (\n",
    "        SELECT  R.FID,\n",
    "                S.SPECIES_KEY,\n",
    "                STATUS.STATUS_KEY,\n",
    "                L.LOCATION_KEY,\n",
    "                CD.DATE_COLLECTED_KEY,\n",
    "                ID.DATE_IDENTIFIED_KEY,\n",
    "                R.IDENTIFIEDBY,\n",
    "                R.COLLECTOR,\n",
    "                R.INDIVIDUALCOUNT,\n",
    "                R.NOTES,\n",
    "                R.COLLECTINGMETHOD,\n",
    "                R.OKOLOGI,\n",
    "                R.HABITAT,\n",
    "                R.INAME,\n",
    "                R.CNAME\n",
    "        FROM REDLIST R\n",
    "        LEFT JOIN SPECIES S  ON S.KINGDOM    = R.KINGDOM\n",
    "                            AND S.PHYLUM     = R.PHYLUM\n",
    "                            AND S.CLASS      = R.CLASS\n",
    "                            AND S.ORDER      = R.ORDER\n",
    "                            AND S.FAMILY     = R.FAMILY\n",
    "                            AND S.GENUS      = R.GENUS\n",
    "                            AND S.SPECIES    = R.SPECIES\n",
    "                            AND S.SUBSPECIES = R.SUBSPECIES\n",
    "                            AND S.AUTHOR     = R.AUTHOR\n",
    "                            \n",
    "        LEFT JOIN LOCATION L ON L.LONGITUDE  = CAST(R.LONGITUDE AS DOUBLE)\n",
    "                            AND L.LATITUDE   = CAST(R.LATITUDE AS DOUBLE)\n",
    "                            AND L.LOCALITY   = R.LOCALITY\n",
    "                            AND L.MUNINAME   = UPPER(R.MUNINAME)\n",
    "                            AND L.COUNTY     = UPPER(R.COUNTY)\n",
    "                            AND L.COORDINATEPRECISION = R.COORDINATEPRECISION\n",
    "        \n",
    "        LEFT JOIN STATUS ON STATUS.STATUS = UPPER(R.STATUS)\n",
    "                            \n",
    "        LEFT JOIN COLLECTED_DATE CD  ON CD.YEARCOLLECTED   = R.YEARCOLLECTED\n",
    "                                    AND CD.MONTHCOLLECTED  = R.MONTHCOLLECTED\n",
    "                                    AND CD.DAYCOLLECTED    = R.DAYCOLLECTED\n",
    "                                    \n",
    "        LEFT JOIN IDENTIFIED_DATE ID ON ID.YEARIDENTIFIED  = R.YEARIDENTIFIED\n",
    "                                    AND ID.MONTHIDENTIFIED = R.MONTHIDENTIFIED\n",
    "                                    AND ID.DAYIDENTIFIED   = R.DAYIDENTIFIED\n",
    "                                    \n",
    "                                ) OBSERVATIONS\n",
    "\"\"\")"
   ]
  },
  {
   "cell_type": "code",
   "execution_count": 25,
   "metadata": {},
   "outputs": [
    {
     "name": "stdout",
     "output_type": "stream",
     "text": [
      "root\n",
      " |-- OBSERVATION_KEY: integer (nullable = true)\n",
      " |-- SPECIES_KEY: integer (nullable = true)\n",
      " |-- LOCATION_KEY: integer (nullable = true)\n",
      " |-- STATUS_KEY: integer (nullable = true)\n",
      " |-- DATE_COLLECTED_KEY: integer (nullable = true)\n",
      " |-- DATE_IDENTIFIED_KEY: integer (nullable = true)\n",
      " |-- IDENTIFIEDBY: string (nullable = true)\n",
      " |-- COLLECTOR: string (nullable = true)\n",
      " |-- INDIVIDUALCOUNT: string (nullable = true)\n",
      " |-- NOTES: string (nullable = true)\n",
      " |-- COLLECTINGMETHOD: string (nullable = true)\n",
      " |-- OKOLOGI: string (nullable = true)\n",
      " |-- HABITAT: string (nullable = true)\n",
      " |-- INAME: string (nullable = true)\n",
      " |-- CNAME: string (nullable = true)\n",
      "\n"
     ]
    }
   ],
   "source": [
    "fact_observation.printSchema()"
   ]
  },
  {
   "cell_type": "code",
   "execution_count": 216,
   "metadata": {},
   "outputs": [
    {
     "data": {
      "text/plain": [
       "4384290"
      ]
     },
     "execution_count": 216,
     "metadata": {},
     "output_type": "execute_result"
    }
   ],
   "source": [
    "fact_observation.count()"
   ]
  },
  {
   "cell_type": "code",
   "execution_count": 240,
   "metadata": {},
   "outputs": [
    {
     "name": "stdout",
     "output_type": "stream",
     "text": [
      "+---------------+-----------+------------+----------+------------------+-------------------+--------------+-----------+---------------+-----------+----------------+-------+--------------------+--------------------+--------------------+\n",
      "|OBSERVATION_KEY|SPECIES_KEY|LOCATION_KEY|STATUS_KEY|DATE_COLLECTED_KEY|DATE_IDENTIFIED_KEY|  IDENTIFIEDBY|  COLLECTOR|INDIVIDUALCOUNT|      NOTES|COLLECTINGMETHOD|OKOLOGI|             HABITAT|               INAME|               CNAME|\n",
      "+---------------+-----------+------------+----------+------------------+-------------------+--------------+-----------+---------------+-----------+----------------+-------+--------------------+--------------------+--------------------+\n",
      "|              1|       null|       20801|         4|             18447|               8350|     R. Haugan|  R. Haugan|           null|       null|            null|   null|On S side of larg...|Naturhistorisk Mu...|l hos Naturhistor...|\n",
      "|              2|       null|      201478|         6|               821|               2217|A.H. Magnusson|   N.G. Moe|           null|     n. sp.|            null|   null|                null|Naturhistorisk Mu...|l hos Naturhistor...|\n",
      "|              3|       null|      286356|         6|               761|               2217|A.H. Magnusson|   N.G. Moe|           null|     n. sp.|            null|   null|                null|Naturhistorisk Mu...|l hos Naturhistor...|\n",
      "|              4|       null|      465985|         6|              9452|               4721|     S. Ahlner|  S. Ahlner|           null|det. auctor|            null|   null|döda grenar av le...|Naturhistorisk Mu...|l hos Naturhistor...|\n",
      "|              5|       null|      470610|         4|             18565|               8439|   T. Tønsberg|T. Tønsberg|           null|      ex BG|            null|   null|On Prunus avium i...|Naturhistorisk Mu...|l hos Naturhistor...|\n",
      "+---------------+-----------+------------+----------+------------------+-------------------+--------------+-----------+---------------+-----------+----------------+-------+--------------------+--------------------+--------------------+\n",
      "only showing top 5 rows\n",
      "\n"
     ]
    }
   ],
   "source": [
    "fact_observation.show(5)"
   ]
  },
  {
   "cell_type": "code",
   "execution_count": 241,
   "metadata": {},
   "outputs": [],
   "source": [
    "# write observations table back to S3, repartition by 8 - cores availiable on my machine\n",
    "fact_observation.repartition(8).write.mode(\"overwrite\").parquet(output_data + \"fact_observation.parquet\")"
   ]
  },
  {
   "cell_type": "markdown",
   "metadata": {},
   "source": [
    "#### 4.2 Data Quality Checks\n",
    "1. Check if it exists records in source table which are not available in the fact table\n",
    "2. Perform an analytical query and verify that results are the same in our source table\n",
    " \n",
    "Run Quality Checks"
   ]
  },
  {
   "cell_type": "code",
   "execution_count": 61,
   "metadata": {},
   "outputs": [],
   "source": [
    "# Read parquet files from S3\n",
    "observations    = spark.read.parquet(output_data + \"fact_observation.parquet\")\n",
    "species         = spark.read.parquet(output_data + \"dim_species.parquet\")\n",
    "status          = spark.read.parquet(output_data + \"dim_status.parquet\")\n",
    "location        = spark.read.parquet(output_data + \"dim_location.parquet\")\n",
    "collected_date  = spark.read.parquet(output_data + \"dim_collected_date.parquet\")\n",
    "identified_date = spark.read.parquet(output_data + \"dim_identified_date.parquet\")\n",
    "weather_station = spark.read.parquet(output_data + \"dim_weather_station.parquet\")"
   ]
  },
  {
   "cell_type": "code",
   "execution_count": 62,
   "metadata": {},
   "outputs": [],
   "source": [
    "# Register DataFrames as a SQL temporary view\n",
    "\n",
    "# Source table\n",
    "RedlistSparkDfWithFixedSchema.createOrReplaceTempView(\"redlist\")\n",
    "\n",
    "# Dimensional model\n",
    "observations.createOrReplaceTempView(\"observations\")\n",
    "species.createOrReplaceTempView(\"species\")\n",
    "status.createOrReplaceTempView(\"status\")\n",
    "location.createOrReplaceTempView(\"location\")\n",
    "collected_date.createOrReplaceTempView(\"collected_date\")\n",
    "identified_date.createOrReplaceTempView(\"identified_date\")\n",
    "weather_station.createOrReplaceTempView(\"weather_station\")"
   ]
  },
  {
   "cell_type": "code",
   "execution_count": 63,
   "metadata": {},
   "outputs": [
    {
     "name": "stdout",
     "output_type": "stream",
     "text": [
      "+-------------+--------------+------------+--------------+---------------+-------------+---+\n",
      "|YEARCOLLECTED|MONTHCOLLECTED|DAYCOLLECTED|YEARIDENTIFIED|MONTHIDENTIFIED|DAYIDENTIFIED|CNT|\n",
      "+-------------+--------------+------------+--------------+---------------+-------------+---+\n",
      "+-------------+--------------+------------+--------------+---------------+-------------+---+\n",
      "\n"
     ]
    }
   ],
   "source": [
    "# both source and target tables should return equal number of rows\n",
    "\n",
    "df = spark.sql(\"\"\"\n",
    "\n",
    "--Check if it exists records in source table which are not available in the fact table\n",
    "\n",
    "    --source\n",
    "    SELECT YEARCOLLECTED,\n",
    "           MONTHCOLLECTED,\n",
    "           DAYCOLLECTED,\n",
    "           YEARIDENTIFIED,\n",
    "           MONTHIDENTIFIED,\n",
    "           DAYIDENTIFIED,\n",
    "           COUNT(*) AS CNT\n",
    "    FROM REDLIST\n",
    "    GROUP BY YEARCOLLECTED,\n",
    "             MONTHCOLLECTED,\n",
    "             DAYCOLLECTED,\n",
    "             YEARIDENTIFIED,\n",
    "             MONTHIDENTIFIED,\n",
    "             DAYIDENTIFIED\n",
    "               \n",
    "    EXCEPT\n",
    "             \n",
    "    --targets\n",
    "    SELECT CD.YEARCOLLECTED,\n",
    "           CD.MONTHCOLLECTED,\n",
    "           CD.DAYCOLLECTED,\n",
    "           ID.YEARIDENTIFIED,\n",
    "           ID.MONTHIDENTIFIED,\n",
    "           ID.DAYIDENTIFIED,\n",
    "           COUNT(*) AS CNT\n",
    "    FROM OBSERVATIONS O\n",
    "    LEFT JOIN COLLECTED_DATE CD ON CD.DATE_COLLECTED_KEY = O.DATE_COLLECTED_KEY\n",
    "    LEFT JOIN IDENTIFIED_DATE ID ON ID.DATE_IDENTIFIED_KEY = O.DATE_IDENTIFIED_KEY\n",
    "    GROUP BY   CD.YEARCOLLECTED,\n",
    "               CD.MONTHCOLLECTED,\n",
    "               CD.DAYCOLLECTED,\n",
    "               ID.YEARIDENTIFIED,\n",
    "               ID.MONTHIDENTIFIED,\n",
    "               ID.DAYIDENTIFIED\n",
    "    \n",
    "\"\"\").show()"
   ]
  },
  {
   "cell_type": "code",
   "execution_count": 246,
   "metadata": {},
   "outputs": [],
   "source": [
    "# Perform an analytical query\n",
    "df = spark.sql(\"\"\"\n",
    "    SELECT O.IDENTIFIEDBY,\n",
    "           O.NOTES,\n",
    "           S.KINGDOM,\n",
    "           S.SPECIES,\n",
    "           STATUS.DESCRIPTION,\n",
    "           S.NORWEGIAN_NAME,\n",
    "           CD.YEARCOLLECTED,\n",
    "           CD.MONTHCOLLECTED,\n",
    "           CD.DAYCOLLECTED\n",
    "    FROM OBSERVATIONS O\n",
    "    INNER JOIN SPECIES S ON S.SPECIES_KEY = O.SPECIES_KEY\n",
    "    LEFT JOIN COLLECTED_DATE CD ON CD.DATE_COLLECTED_KEY = O.DATE_COLLECTED_KEY\n",
    "    LEFT JOIN IDENTIFIED_DATE ID ON ID.DATE_IDENTIFIED_KEY = O.DATE_IDENTIFIED_KEY\n",
    "    LEFT JOIN STATUS ON STATUS.STATUS_KEY = O.STATUS_KEY\n",
    "    WHERE ID.YEARIDENTIFIED IN (2019, 2020, 2021)\n",
    "\"\"\").toPandas()"
   ]
  },
  {
   "cell_type": "code",
   "execution_count": 247,
   "metadata": {},
   "outputs": [],
   "source": [
    "# select a sample based on lookup condition\n",
    "lookup = ['Coeloglossum viride']\n",
    "\n",
    "df_plantae = df[(df['KINGDOM'] == 'Plantae') & df['SPECIES'].isin(lookup)]"
   ]
  },
  {
   "cell_type": "code",
   "execution_count": 248,
   "metadata": {},
   "outputs": [
    {
     "data": {
      "text/html": [
       "<div>\n",
       "<style scoped>\n",
       "    .dataframe tbody tr th:only-of-type {\n",
       "        vertical-align: middle;\n",
       "    }\n",
       "\n",
       "    .dataframe tbody tr th {\n",
       "        vertical-align: top;\n",
       "    }\n",
       "\n",
       "    .dataframe thead th {\n",
       "        text-align: right;\n",
       "    }\n",
       "</style>\n",
       "<table border=\"1\" class=\"dataframe\">\n",
       "  <thead>\n",
       "    <tr style=\"text-align: right;\">\n",
       "      <th></th>\n",
       "      <th>IDENTIFIEDBY</th>\n",
       "      <th>NOTES</th>\n",
       "      <th>KINGDOM</th>\n",
       "      <th>SPECIES</th>\n",
       "      <th>DESCRIPTION</th>\n",
       "      <th>NORWEGIAN_NAME</th>\n",
       "      <th>YEARCOLLECTED</th>\n",
       "      <th>MONTHCOLLECTED</th>\n",
       "      <th>DAYCOLLECTED</th>\n",
       "    </tr>\n",
       "  </thead>\n",
       "  <tbody>\n",
       "    <tr>\n",
       "      <th>668</th>\n",
       "      <td>H. Hegre, R. Elven</td>\n",
       "      <td>None</td>\n",
       "      <td>Plantae</td>\n",
       "      <td>Coeloglossum viride</td>\n",
       "      <td>Endangered</td>\n",
       "      <td>islandsgrønnkurle</td>\n",
       "      <td>1986</td>\n",
       "      <td>8</td>\n",
       "      <td>31</td>\n",
       "    </tr>\n",
       "    <tr>\n",
       "      <th>1749</th>\n",
       "      <td>H. Hegre, R. Elven</td>\n",
       "      <td>None</td>\n",
       "      <td>Plantae</td>\n",
       "      <td>Coeloglossum viride</td>\n",
       "      <td>Endangered</td>\n",
       "      <td>islandsgrønnkurle</td>\n",
       "      <td>1962</td>\n",
       "      <td>10</td>\n",
       "      <td>1</td>\n",
       "    </tr>\n",
       "    <tr>\n",
       "      <th>1846</th>\n",
       "      <td>H. Hegre, R. Elven</td>\n",
       "      <td>None</td>\n",
       "      <td>Plantae</td>\n",
       "      <td>Coeloglossum viride</td>\n",
       "      <td>Endangered</td>\n",
       "      <td>islandsgrønnkurle</td>\n",
       "      <td>1972</td>\n",
       "      <td>9</td>\n",
       "      <td>3</td>\n",
       "    </tr>\n",
       "  </tbody>\n",
       "</table>\n",
       "</div>"
      ],
      "text/plain": [
       "            IDENTIFIEDBY NOTES  KINGDOM              SPECIES DESCRIPTION  \\\n",
       "668   H. Hegre, R. Elven  None  Plantae  Coeloglossum viride  Endangered   \n",
       "1749  H. Hegre, R. Elven  None  Plantae  Coeloglossum viride  Endangered   \n",
       "1846  H. Hegre, R. Elven  None  Plantae  Coeloglossum viride  Endangered   \n",
       "\n",
       "         NORWEGIAN_NAME  YEARCOLLECTED  MONTHCOLLECTED  DAYCOLLECTED  \n",
       "668   islandsgrønnkurle           1986               8            31  \n",
       "1749  islandsgrønnkurle           1962              10             1  \n",
       "1846  islandsgrønnkurle           1972               9             3  "
      ]
     },
     "execution_count": 248,
     "metadata": {},
     "output_type": "execute_result"
    }
   ],
   "source": [
    "df_plantae.head()"
   ]
  },
  {
   "cell_type": "code",
   "execution_count": 164,
   "metadata": {},
   "outputs": [],
   "source": [
    "# Check if this is true in source\n",
    "df_quality_check = spark.sql(\"\"\"\n",
    "    SELECT IDENTIFIEDBY,\n",
    "           NOTES,\n",
    "           KINGDOM,\n",
    "           SPECIES,\n",
    "           NORSKNAVN AS NORWEGIAN_NAME,\n",
    "           YEARCOLLECTED,\n",
    "           MONTHCOLLECTED,\n",
    "           DAYCOLLECTED\n",
    "    FROM REDLIST\n",
    "    WHERE SPECIES IN ('Coeloglossum viride')\n",
    "      AND YEARIDENTIFIED IN (2019, 2020, 2021)\n",
    "\"\"\").toPandas()"
   ]
  },
  {
   "cell_type": "code",
   "execution_count": 165,
   "metadata": {},
   "outputs": [
    {
     "data": {
      "text/html": [
       "<div>\n",
       "<style scoped>\n",
       "    .dataframe tbody tr th:only-of-type {\n",
       "        vertical-align: middle;\n",
       "    }\n",
       "\n",
       "    .dataframe tbody tr th {\n",
       "        vertical-align: top;\n",
       "    }\n",
       "\n",
       "    .dataframe thead th {\n",
       "        text-align: right;\n",
       "    }\n",
       "</style>\n",
       "<table border=\"1\" class=\"dataframe\">\n",
       "  <thead>\n",
       "    <tr style=\"text-align: right;\">\n",
       "      <th></th>\n",
       "      <th>IDENTIFIEDBY</th>\n",
       "      <th>NOTES</th>\n",
       "      <th>KINGDOM</th>\n",
       "      <th>SPECIES</th>\n",
       "      <th>NORWEGIAN_NAME</th>\n",
       "      <th>YEARCOLLECTED</th>\n",
       "      <th>MONTHCOLLECTED</th>\n",
       "      <th>DAYCOLLECTED</th>\n",
       "    </tr>\n",
       "  </thead>\n",
       "  <tbody>\n",
       "    <tr>\n",
       "      <th>0</th>\n",
       "      <td>H. Hegre, R. Elven</td>\n",
       "      <td>None</td>\n",
       "      <td>Plantae</td>\n",
       "      <td>Coeloglossum viride</td>\n",
       "      <td>islandsgrønnkurle</td>\n",
       "      <td>1986</td>\n",
       "      <td>8</td>\n",
       "      <td>31</td>\n",
       "    </tr>\n",
       "    <tr>\n",
       "      <th>1</th>\n",
       "      <td>H. Hegre, R. Elven</td>\n",
       "      <td>None</td>\n",
       "      <td>Plantae</td>\n",
       "      <td>Coeloglossum viride</td>\n",
       "      <td>islandsgrønnkurle</td>\n",
       "      <td>1962</td>\n",
       "      <td>10</td>\n",
       "      <td>1</td>\n",
       "    </tr>\n",
       "    <tr>\n",
       "      <th>2</th>\n",
       "      <td>H. Hegre, R. Elven</td>\n",
       "      <td>None</td>\n",
       "      <td>Plantae</td>\n",
       "      <td>Coeloglossum viride</td>\n",
       "      <td>islandsgrønnkurle</td>\n",
       "      <td>1972</td>\n",
       "      <td>9</td>\n",
       "      <td>3</td>\n",
       "    </tr>\n",
       "  </tbody>\n",
       "</table>\n",
       "</div>"
      ],
      "text/plain": [
       "         IDENTIFIEDBY NOTES  KINGDOM              SPECIES     NORWEGIAN_NAME  \\\n",
       "0  H. Hegre, R. Elven  None  Plantae  Coeloglossum viride  islandsgrønnkurle   \n",
       "1  H. Hegre, R. Elven  None  Plantae  Coeloglossum viride  islandsgrønnkurle   \n",
       "2  H. Hegre, R. Elven  None  Plantae  Coeloglossum viride  islandsgrønnkurle   \n",
       "\n",
       "   YEARCOLLECTED  MONTHCOLLECTED  DAYCOLLECTED  \n",
       "0           1986               8            31  \n",
       "1           1962              10             1  \n",
       "2           1972               9             3  "
      ]
     },
     "execution_count": 165,
     "metadata": {},
     "output_type": "execute_result"
    }
   ],
   "source": [
    "df_quality_check"
   ]
  },
  {
   "cell_type": "markdown",
   "metadata": {},
   "source": [
    "#### Result\n",
    "The number of records and details are correct"
   ]
  },
  {
   "cell_type": "markdown",
   "metadata": {},
   "source": [
    "#### 4.3 Data dictionary \n",
    "<a href=\"datadict.txt\">Data dictionary</a>"
   ]
  },
  {
   "cell_type": "markdown",
   "metadata": {},
   "source": [
    "#### Step 5: Project Write Up\n",
    "The purpose of the project was to make a dimensional model for querying redlisted species observations. Further enrich every observation with weather station metadata close to the redlisted species observation geo-location point. The data contains redlisted species observations from year 1700 until present time. The weather station meta data could be interesting if you want to know the weather conditions back in time for that particular species observation location.\n",
    "\n",
    "#### Tools\n",
    "I use PySpark for data cleaning and ETL. Spark in local mode works fast in memory. If data were to increase, it is easy to scale out vertically to handle larger volums connecting to other machines or cloud services like AWS.\n",
    "\n",
    "#### Overview of the steps taken in the project\n",
    "\n",
    "- Restore Artskart2Index database using the .bak-file and a local instance of SQL Server Express\n",
    "- Push down a query to SQL Server using PySpark and JDBC connector. Gather data from an existing database view fetching all redlisted species observations\n",
    "- Write the result to a partitioned CSV file and copy files to S3\n",
    "- Connect to MET Norway's API service and fetch weather station meta data in JSON format\n",
    "- Explore and clean data using PySpark, Spark SQL and Pandas validating that all data is in the expected format\n",
    "- Define the conceptual data model \n",
    "- Extract, transform and load data as parquet files into S3 using PySpark and Spark SQL\n",
    "- Write data quality checks to ensure data is correct\n",
    "\n",
    "#### Updating data\n",
    "In order to keep data relevant, data should be updated whenever there is a new redlisted species observation registered in Artskart"
   ]
  },
  {
   "cell_type": "markdown",
   "metadata": {},
   "source": [
    "#### The data was increased by 100x:\n",
    "If data were to increase by 100x, I would add more workers to the Spark cluster speeding up load times. Since data is heavily skeweed, data must be partitioned according to the number of nodes working simultaneously."
   ]
  },
  {
   "cell_type": "markdown",
   "metadata": {},
   "source": [
    "#### The data populates a dashboard that must be updated on a daily basis by 7am every day.\n",
    "If data were to populate a dashboard on a daily basis by 7am every day, I would orchestrate an ETL job in Airflow creating a DAG with a schedule interval accordingly."
   ]
  },
  {
   "cell_type": "markdown",
   "metadata": {},
   "source": [
    "#### The database needed to be accessed by 100+ people.\n",
    "I would provide IAM users with read access to S3"
   ]
  }
 ],
 "metadata": {
  "kernelspec": {
   "display_name": "Python 3",
   "language": "python",
   "name": "python3"
  },
  "language_info": {
   "codemirror_mode": {
    "name": "ipython",
    "version": 3
   },
   "file_extension": ".py",
   "mimetype": "text/x-python",
   "name": "python",
   "nbconvert_exporter": "python",
   "pygments_lexer": "ipython3",
   "version": "3.8.8"
  }
 },
 "nbformat": 4,
 "nbformat_minor": 4
}
